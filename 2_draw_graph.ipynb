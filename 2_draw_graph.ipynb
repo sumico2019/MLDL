{
  "cells": [
    {
      "cell_type": "markdown",
      "metadata": {
        "id": "Lqbcj7vi2ZYW"
      },
      "source": [
        "# グラフを描画する/Draw a graph\n",
        "\n",
        "* PythonとNumpy，Matplotlibを利用して，データをグラフに描画する．\n",
        "\n",
        "* Draw graphs of data using Python, Numpy, and Matplotlib.\n",
        "\n",
        "* 下記のプログラムを実行すると，`data/car.txt`と`data/human.txt`の2つを読み込みグラフにする．グラフは`graph1.png`として保存される．\n",
        "\n",
        "* Execute the following program and it reads `data/car.txt` and `data/human.txt` and makes a graph of them. The graph is saved as `graph1.png`."
      ]
    },
    {
      "cell_type": "markdown",
      "source": [
        "# Googleドライブのマウント方法/How to mount Google Drive\n",
        "\n",
        "* Google ドライブを Google Colab にマウント\n",
        "\n",
        "* Mount Google Drive to Google Colab"
      ],
      "metadata": {
        "id": "5lgK55_Nkh61"
      }
    },
    {
      "cell_type": "code",
      "source": [
        "from google.colab import drive\n",
        "drive.mount('/content/drive')"
      ],
      "metadata": {
        "colab": {
          "base_uri": "https://localhost:8080/"
        },
        "id": "FS7i55l6nnqL",
        "outputId": "2bbb9a92-47cd-4992-89d3-e19d8d6cfc2e"
      },
      "execution_count": null,
      "outputs": [
        {
          "output_type": "stream",
          "name": "stdout",
          "text": [
            "Mounted at /content/drive\n"
          ]
        }
      ]
    },
    {
      "cell_type": "markdown",
      "metadata": {
        "id": "ukshvBIR46BO"
      },
      "source": [
        "## モジュールのインポート/Import Modules\n",
        "\n",
        "* 初めに，必要なモジュールを`import`文でインポートする．\n",
        "\n",
        "* 次のモジュールをインポートする\n",
        "\n",
        " - `path`：ファイル構造を取り扱うためのライブラリ\n",
        " - `numpy`：数値計算ライブラリ\n",
        " - `matplotlib`：グラフ描画ライブラリ\n",
        "\n",
        "* First, import the necessary modules with the `import` statement.\n",
        "\n",
        "* Import the following modules\n",
        "\n",
        " - `path`：Library for handling file structures\n",
        " - `numpy`：Library for numerical calculation\n",
        " - `matplotlib`：Library for graph drawing\n",
        "---\n",
        "* `from os import path`は「osという名前のパッケージ」が存在し，そこから「pathという名前のモジュール」をインポートするということになる．\n",
        "\n",
        "* `import numpy as np`はインポートしたnumpyに対して「np」という名前をつけるということになる．\n",
        "\n",
        "* `from os import path` means that a package named \"os\" exists, and a module named \"path\" is imported from it. \n",
        "\n",
        "* `import numpy as np` means that the imported numpy is named \"np\"."
      ]
    },
    {
      "cell_type": "code",
      "execution_count": null,
      "metadata": {
        "id": "MLPeogSBJUSE"
      },
      "outputs": [],
      "source": [
        "from os import path\n",
        "import numpy as np\n",
        "import matplotlib.pyplot as plt"
      ]
    },
    {
      "cell_type": "markdown",
      "metadata": {
        "id": "LwrsnYPS5LrK"
      },
      "source": [
        "##ファイルの読み込み/Loading Files\n",
        "\n",
        "* 次に，ファイルを開いて配列に入れる．\n",
        "\n",
        "* Pythonには「リスト」と言う配列に似たものが標準で実装されているが，今回はnumpyの機能である配列を利用する．\n",
        "\n",
        "* Next, we open the file and put it into an array.\n",
        "\n",
        "* Python has a standard implementation of \"lists,\" which are similar to arrays, but this time we will use an array, which is a function of numpy.\n",
        "---\n",
        "* `path.join`はpathモジュール内にある関数で，パスを連結する関数である．\n",
        "\n",
        "* ここでは`path.join('data', 'car.txt')`とあるので，`data/car.txt`を返す．\n",
        "\n",
        "* 変数`in_txt1`と`in_txt2`にはそれぞれ`data/car.txt`と`data/human.txt`への参照が入ることになる．\n",
        "\n",
        "* `path.join` is a function in the path module that joins paths.\n",
        "\n",
        "* Here `path.join('data', 'car.txt')` returns `data/car.txt`.\n",
        "\n",
        "* The variables `in_txt1` and `in_txt2` are references to `data/car.txt` and `data/human.txt`, respectively."
      ]
    },
    {
      "cell_type": "code",
      "execution_count": null,
      "metadata": {
        "id": "3ViJGQHfJUUt",
        "colab": {
          "base_uri": "https://localhost:8080/"
        },
        "outputId": "c54261fb-80a8-4f7e-aff7-e0703cd6a9a4"
      },
      "outputs": [
        {
          "output_type": "stream",
          "name": "stdout",
          "text": [
            "<_io.TextIOWrapper name='/content/drive/MyDrive/Colab Notebooks/2data/car.txt' mode='r' encoding='UTF-8'>\n",
            "<_io.TextIOWrapper name='/content/drive/MyDrive/Colab Notebooks/2data/human.txt' mode='r' encoding='UTF-8'>\n"
          ]
        }
      ],
      "source": [
        "in_txt1 = open(path.join('/content/drive/MyDrive/Colab Notebooks/2data', 'car.txt'))\n",
        "in_txt2 = open(path.join('/content/drive/MyDrive/Colab Notebooks/2data', 'human.txt'))\n",
        "\n",
        "car = np.asarray([(line.strip()).split('\\t') for line in in_txt1], dtype=float)\n",
        "human = np.asarray([(line.strip()).split('\\t') for line in in_txt2], dtype=float)\n",
        "\n",
        "print(in_txt1)\n",
        "print(in_txt2)"
      ]
    },
    {
      "cell_type": "markdown",
      "metadata": {
        "id": "Voox5uSr6zIa"
      },
      "source": [
        "## 配列へ格納/Store in array\n",
        "\n",
        "* 続いて，ファイルの中身を参照して配列に入れる．\n",
        "\n",
        "* `car = np.asarray([(line.strip()).split('\\t') for line in in_txt1])`では，1行でいろいろなことをやっている．\n",
        "\n",
        "* これは「リスト内包表記」と呼び，リストを生成するときに簡単に記述できるようにしたものである．\n",
        "\n",
        "* この1行をわかりやすく書き直すと次の通りになる：\n",
        "\n",
        "* Then, the contents of the file are referenced and put into an array.\n",
        "\n",
        "* `car = np.asarray([(line.strip()).split('\\t') for line in in_txt1])` does various things in one line.\n",
        "\n",
        "* This is called \"list comprehension notation\" and is intended to make it easy to write when generating lists.\n",
        "\n",
        "* This one line can be rewritten in a simple way as follows"
      ]
    },
    {
      "cell_type": "code",
      "execution_count": null,
      "metadata": {
        "id": "7MhhPAXNJUZo"
      },
      "outputs": [],
      "source": [
        "in_txt1 = open(path.join('/content/drive/MyDrive/Colab Notebooks/2data', 'car.txt'))\n",
        "\n",
        "car = []\n",
        "for line in in_txt1:\n",
        "  car.append( (line.strip()).split('\\t') )\n",
        "car = np.asarray(car, dtype=float)"
      ]
    },
    {
      "cell_type": "markdown",
      "metadata": {
        "id": "Euue1o7u7ZRP"
      },
      "source": [
        "* まず，`for line in in_txt1:`について説明する．\n",
        "\n",
        "* このfor文の書き方はPython特有のものであり，ここでは「`in_txt1`の中身を変数`line`に1行ずつ入れて実行」という意味になる．\n",
        "\n",
        "* これにより，テキストファイルを1行ずつ処理することができる．\n",
        "\n",
        "* First, let me explain about `for line in in_txt1:`. \n",
        "\n",
        "* This for statement is specific to Python, and in this case it means \"put the contents of `in_txt1` into the variable `line` one line at a time and execute it\". \n",
        "\n",
        "* This allows a text file to be processed one line at a time.\n",
        "---\n",
        "* 続いて，`(line.strip()).split('\\t')`の`line.strip()`は「文字列変数`line`から空白文字や改行コードを取り除く」ものである．\n",
        "\n",
        "* これを行わずに処理を行うと，変数`line`に残っている改行コードが一緒に処理されてしまうため，変数やリストに改行コードが入ってしまうことになる．\n",
        "\n",
        "* Next, `(line.strip()).split('\\t')` of `(line.strip()).split('\\t')` \"removes white spaces and newline codes from the string variable `line`. \n",
        "\n",
        "* If processing is performed without this, line feed codes remaining in the variable `line` will be processed together, resulting in line feed codes in variables and lists.\n",
        "---\n",
        "* さらに続けて`.split('\\t')`と記述することにより，先程得られた改行コードのない文字列を「指定された文字列で区切る」ことができる．\n",
        "\n",
        "* ここでは`'\\t'`つまりタブが指定されているため，タブで区切る．\n",
        "\n",
        "* `1512.000000 (タブ) 26.779374`という文字列があったとき，この処理を行うことで`['1512.000000', '26.779374']`という1つの1次元リストにすることができる．\n",
        "\n",
        "* 以上の処理をテキストファイル全体に行ったあと，`np.asarray()`でnumpyの配列に変換している．\n",
        "\n",
        "* The following `.split('\\t')` can be used to \"delimit the string without newline code\" obtained earlier. \n",
        "\n",
        "* Here, since `'\\t'`, i.e., a tab is specified, it is separated by a tab.\n",
        "\n",
        "* If there is a string `1512.000000 (tab) 26.779374`, this process makes it a one-dimensional list `['1512.000000', '26.779374']`.\n",
        "\n",
        "* After the above process is done to the whole text file, it is converted to a numpy array with `np.asarray()`."
      ]
    },
    {
      "cell_type": "code",
      "execution_count": null,
      "metadata": {
        "id": "7y8Dmupx6Ncz",
        "colab": {
          "base_uri": "https://localhost:8080/"
        },
        "outputId": "d8235aab-4b68-46a4-b99a-d6e2ea3c7d9c"
      },
      "outputs": [
        {
          "output_type": "stream",
          "name": "stdout",
          "text": [
            "[[1512.         26.779374]\n",
            " [1802.         30.181811]\n",
            " [1624.         37.070186]\n",
            " [1595.         31.35323 ]\n",
            " [1705.         29.521916]\n",
            " [1595.         28.129919]\n",
            " [1740.         28.635195]\n",
            " [1920.         26.258527]\n",
            " [2046.         25.805478]\n",
            " [2304.         28.345481]\n",
            " [1980.         22.272106]\n",
            " [2184.         26.606136]\n",
            " [1855.         23.561031]\n",
            " [1980.         21.863881]\n",
            " [2223.         27.445359]\n",
            " [2301.         28.150374]\n",
            " [2840.         31.634094]\n",
            " [2652.         28.387444]\n",
            " [3096.         28.343877]\n",
            " [3010.         28.681518]\n",
            " [2706.         25.6541  ]\n",
            " [3234.         28.881692]\n",
            " [3243.         24.807416]\n",
            " [3430.         25.94729 ]\n",
            " [3834.         25.859545]\n",
            " [4400.         27.323686]\n",
            " [4218.         28.617058]\n",
            " [5124.         28.303789]\n",
            " [4503.         26.306446]\n",
            " [5146.         29.592637]\n",
            " [5355.         28.979888]\n",
            " [5056.         26.290137]\n",
            " [6090.         26.36577 ]\n",
            " [6336.         28.700233]\n",
            " [6825.         25.028423]\n",
            " [6106.         21.146658]\n",
            " [7998.         24.413585]\n",
            " [9568.         31.270208]\n",
            " [9256.         29.856457]\n",
            " [1610.         22.333455]\n",
            " [1591.         21.67529 ]\n",
            " [1927.         20.590284]\n",
            " [2132.         21.607597]\n",
            " [2021.         20.05207 ]\n",
            " [2100.         21.911881]\n",
            " [2385.         20.916641]\n",
            " [2142.         22.828075]\n",
            " [2592.         23.508729]\n",
            " [2900.         20.669156]\n",
            " [3465.         25.817769]\n",
            " [3905.         20.940273]\n",
            " [4060.         24.468648]\n",
            " [3591.         21.80995 ]\n",
            " [4347.         22.278703]\n",
            " [4488.         24.591318]\n",
            " [4828.         22.495096]\n",
            " [5250.         25.44681 ]\n",
            " [6300.         26.554136]\n",
            " [6474.         25.612744]\n",
            " [6952.         25.080909]\n",
            " [6216.         22.186814]\n",
            " [7832.         23.58542 ]\n",
            " [9240.         25.011076]\n",
            " [8928.         24.253629]\n",
            " [1536.         21.403538]\n",
            " [1504.         21.444496]\n",
            " [1551.         21.180597]\n",
            " [1650.         22.318712]\n",
            " [1600.         23.426419]\n",
            " [1728.         23.328331]\n",
            " [1938.         22.126578]\n",
            " [1900.         21.788741]\n",
            " [1911.         20.475552]\n",
            " [1960.         21.413409]\n",
            " [2352.         23.068859]\n",
            " [2340.         20.16408 ]\n",
            " [2679.         23.551041]\n",
            " [2800.         25.435509]\n",
            " [3213.         25.673092]\n",
            " [3402.         26.153333]\n",
            " [3840.         25.441114]\n",
            " [3780.         23.00835 ]\n",
            " [3640.         24.318276]\n",
            " [3944.         23.329107]\n",
            " [4757.         26.741692]\n",
            " [5016.         21.960237]\n",
            " [5168.         21.989482]\n",
            " [5644.         24.417034]\n",
            " [5025.         22.566633]\n",
            " [5460.         22.619956]\n",
            " [5698.         22.101547]\n",
            " [6160.         25.159722]\n",
            " [6720.         25.092673]\n",
            " [7656.         22.389697]\n",
            " [7047.         21.504441]\n",
            " [8464.         24.778876]\n",
            " [8633.         21.935602]\n",
            " [1536.         26.825101]\n",
            " [1755.         25.808467]\n",
            " [2170.         34.739244]\n",
            " [1708.         28.092235]\n",
            " [1716.         28.948212]\n",
            " [1664.         32.214355]\n",
            " [1972.         29.656203]\n",
            " [2516.         32.508618]\n",
            " [2010.         29.174429]\n",
            " [1848.         28.086174]\n",
            " [1755.         25.914892]\n",
            " [2272.         27.070631]\n",
            " [2574.         34.238332]]\n"
          ]
        }
      ],
      "source": [
        "print(car)"
      ]
    },
    {
      "cell_type": "markdown",
      "metadata": {
        "id": "1WD-2Qm68I5C"
      },
      "source": [
        "## グラフの描画/Drawing a graph\n",
        "\n",
        "* 次に，matplotlibを用いてグラフの描画を行う．\n",
        "\n",
        "* Next, draw the graph using matplotlib.\n",
        "---\n",
        "### 1. グラフ描画の準備/preparation for graph plotting\n",
        "\n",
        "* fig = plt.figure()で，新規のプロットウィンドウを作成する．\n",
        "\n",
        "* ペイントソフトで例えると「新しいキャンパスの作成」にあたる．\n",
        "\n",
        "* subfig = fig.add_subplot(1,1,1)は，プロットウィンドウにグラフを追加する．\n",
        "\n",
        "* 引数の1,1,1はそれぞれ行数,列数,何番目かを示す．\n",
        "\n",
        "* ここではグラフは1つだけなので，すべて1で良い．\n",
        "\n",
        "* 次の2行はグラフの描画エリアを示すものである．\n",
        "\n",
        "* xminおよびyminはX軸およびY軸の最小値，xmaxおよびymaxはX軸およびY軸の最大値である．\n",
        "\n",
        "* fig = plt.figure() creates a new plot window. \n",
        "\n",
        "* In painting software, this is analogous to \"creating a new campus.\n",
        "\n",
        "* subfig = fig.add_subplot(1,1,1) adds a graph to the plot window. \n",
        "\n",
        "* The arguments 1,1,1 indicate the number of rows, columns, and number of columns, respectively. \n",
        "\n",
        "* Since there is only one graph in this case, all 1's are sufficient.\n",
        "\n",
        "* The next two lines indicate the plotting area of the graph.\n",
        "\n",
        "* xmin and ymin are the minimum values on the X and Y axes, and xmax and ymax are the maximum values on the X and Y axes.\n",
        "---\n",
        "### 2. データのプロット/Plotting Data\n",
        "\n",
        "* Pythonのリストやnumpyの配列では，`car[:,0]`のように:(コロン)を使うことで「その配列の要素すべて」を表すことができる．\n",
        "\n",
        "* ここでは，`car[0,0]`,`car[1,0]`,`car[2,0]`,`car[3,0]`......と参照する．\n",
        "\n",
        "* グラフのX軸を`car[:,0]`つまりファイルの1列目，Y軸を`car[:,1]`つまりファイルの2列目といった具合でプロットする．\n",
        "\n",
        "* In Python lists and numpy arrays, you can use a: (colon) like `car[:,0]` to represent \"all the elements of that array\".\n",
        "\n",
        "* Here, we refer to `car[0,0]`,`car[1,0]`,`car[2,0]`,`car[3,0]`...... and refer to the following.\n",
        "\n",
        "* Plot the X-axis of the graph as `car[:,0]`, that is, the first column of the file, and the Y-axis as `car[:,1]`, that is, the second column of the file, and so on.\n",
        "---\n",
        "### 3. グラフのタイトルの追加と保存/Adding and saving graph titles\n",
        "\n",
        "* 最後に，タイトル，横軸ラベル，縦軸ラベルを追加して保存する．\n",
        "\n",
        "* プログラムの下部に赤と黒の散布図が表示されればOK．\n",
        "\n",
        "* Finally, add a title, horizontal axis label, and vertical axis label, and save the file.\n",
        "\n",
        "* If a red and black scatter plot appears at the bottom of the program, it is OK."
      ]
    },
    {
      "cell_type": "code",
      "execution_count": null,
      "metadata": {
        "id": "C3gY9w-Q8TC4",
        "colab": {
          "base_uri": "https://localhost:8080/",
          "height": 295
        },
        "outputId": "b1c0075d-6cf3-4452-f7b1-f56e3512a555"
      },
      "outputs": [
        {
          "output_type": "display_data",
          "data": {
            "text/plain": [
              "<Figure size 432x288 with 1 Axes>"
            ],
            "image/png": "[encoded data removed]"
          },
          "metadata": {
            "needs_background": "light"
          }
        }
      ],
      "source": [
        "# 1. グラフ描画の準備/Preparation for Graphing\n",
        "fig = plt.figure()\n",
        "subfig = fig.add_subplot(1,1,1)\n",
        "plt.xlim(xmin=0, xmax = 10000)\n",
        "plt.ylim(ymin=0, ymax = 50)\n",
        "\n",
        "# 2. データのプロット/Plotting Data\n",
        "subfig.scatter(car[:,0], car[:,1],color='black')\n",
        "subfig.scatter(human[:,0], human[:,1],color='red')\n",
        "\n",
        "# 3. グラフのタイトルの追加と保存/Adding and saving graph titles\n",
        "subfig.set_title('Feature Distribution')\n",
        "subfig.set_xlabel('Area')\n",
        "subfig.set_ylabel('complexity')\n",
        "\n",
        "plt.savefig(\"/content/drive/MyDrive/Colab Notebooks/2data/graph1.png\")\n",
        "plt.show()"
      ]
    },
    {
      "cell_type": "markdown",
      "metadata": {
        "id": "NweVowT58a-i"
      },
      "source": [
        "#課題/quiz\n",
        "\n",
        "* carのプロット点をblackではなくblueに変更せよ．\n",
        "* グラフのy軸の範囲を変更せよ．\n",
        "* Change the car plot point to BLUE instead of BLACK.\n",
        "* Change the range of the y-axis of the graph.\n",
        "---\n",
        "##ヒント/Hints\n",
        "\n",
        "* `color=''`の記述を変える．\n",
        "* Yの最小値は20が良い．\n",
        "* Change the description of `color=''`.\n",
        "* The minimum value of Y should be 20."
      ]
    },
    {
      "cell_type": "code",
      "execution_count": null,
      "metadata": {
        "id": "pA7cHq1A2IPq",
        "colab": {
          "base_uri": "https://localhost:8080/",
          "height": 295
        },
        "outputId": "3e09b83c-ebde-422c-f2a2-6b1b209cd5a0"
      },
      "outputs": [
        {
          "output_type": "display_data",
          "data": {
            "text/plain": [
              "<Figure size 432x288 with 1 Axes>"
            ],
            "image/png": "[encoded data removed]"
          },
          "metadata": {
            "needs_background": "light"
          }
        }
      ],
      "source": [
        "# 1. グラフ描画の準備/Preparation for Graphing\n",
        "fig = plt.figure()\n",
        "subfig = fig.add_subplot(1,1,1)\n",
        "plt.xlim(xmin=0, xmax = 10000)\n",
        "plt.ylim(ymin=20, ymax = 50)\n",
        "\n",
        "# 2. データのプロット/Plotting Data\n",
        "subfig.scatter(car[:,0], car[:,1],color='blue')\n",
        "subfig.scatter(human[:,0], human[:,1],color='red')\n",
        "\n",
        "# 3. グラフのタイトルの追加と保存/Adding and saving graph titles\n",
        "subfig.set_title('Feature Distribution')\n",
        "subfig.set_xlabel('Area')\n",
        "subfig.set_ylabel('complexity')\n",
        "\n",
        "plt.savefig(\"/content/drive/MyDrive/Colab Notebooks/2data/graph2.png\")\n",
        "plt.show()"
      ]
    }
  ],
  "metadata": {
    "accelerator": "GPU",
    "colab": {
      "collapsed_sections": [],
      "name": "2_draw_graph.ipynb",
      "provenance": []
    },
    "kernelspec": {
      "display_name": "Python 3",
      "language": "python",
      "name": "python3"
    },
    "language_info": {
      "codemirror_mode": {
        "name": "ipython",
        "version": 3
      },
      "file_extension": ".py",
      "mimetype": "text/x-python",
      "name": "python",
      "nbconvert_exporter": "python",
      "pygments_lexer": "ipython3",
      "version": "3.5.2"
    }
  },
  "nbformat": 4,
  "nbformat_minor": 0
}
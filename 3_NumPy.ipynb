{
  "cells": [
    {
      "cell_type": "markdown",
      "metadata": {
        "id": "3-ewqmV8hszX"
      },
      "source": [
        "# NumPy 入門/Introduction to NumPy\n",
        "\n",
        "* Python で数値計算を高速に行うためのライブラリである NumPy の使い方を学びます.\n",
        "\n",
        "* 重回帰分析を行うアルゴリズムをNumPy を用いて実装します.\n",
        "\n",
        "* NumPy による多次元配列（multidimensional array）の扱い方を知ることは, 他の様々なライブラリを利用する際に役立ちます.\n",
        "\n",
        "* Use NumPy, a library for fast numerical computations in Python.\n",
        "\n",
        "* Implement an algorithm to perform multiple regression analysis using NumPy.\n",
        "\n",
        "* Knowing how NumPy handles multidimensional arrays is helpful when using various other libraries."
      ]
    },
    {
      "cell_type": "markdown",
      "metadata": {
        "id": "iPmvXIQThszZ"
      },
      "source": [
        "## NumPy を使う準備/Preparing to use NumPy\n",
        "\n",
        "* NumPy は Google Colaboratory上のノートブックにはデフォルトでインストールされていますので, インストールは不要です.\n",
        "\n",
        "* Colab 上ではインストール作業は必要ないものの, ノートブックを開いた時点ではまだ `numpy` モジュールが読み込まれていません.\n",
        "\n",
        "* ライブラリの機能を利用するには, そのライブラリが提供するモジュールを読み込む必要があります.\n",
        "\n",
        "* ライブラリとは, 汎用性の高い複数の関数やクラスなどを再利用可能な形でひとまとまりにしたもので, Python の世界では**パッケージ**とも呼ばれます.\n",
        "\n",
        "* Python で関数やクラスの定義, 文などが書かれたファイルのことを**モジュール**と呼び, パッケージはモジュールが集まったものです.\n",
        "\n",
        "* 例えば `A` というモジュールを読み込みたいとき, 一番シンプルな記述方法は `import A` です.\n",
        "\n",
        "* もし `A` というモジュール名が長い場合は, `import A as B` のようにして別名を付けることができます.\n",
        "\n",
        "* `as` を使って別名が与えられると, 以降そのモジュールはその別名を用いて利用することができます.\n",
        "\n",
        "* `import A as B` と書くと, `A` というモジュールは `B` という名前で利用することができます.\n",
        "\n",
        "* `numpy` にはしばしば `np` という別名が与えられます.\n",
        "\n",
        "* `numpy` を `np` という名前で `import` してみましょう.\n",
        "\n",
        "* NumPy is installed by default in notebooks on Google Colaboratory, so you do not need to install it.\n",
        "\n",
        "* On Colab, no installation is required, but the `numpy` module is not yet loaded when you open the notebook.\n",
        "\n",
        "* To use the library's features, you need to read the modules provided by the library.\n",
        "\n",
        "* A library is a reusable collection of general-purpose functions and classes, also called a **package** in the Python world.\n",
        "\n",
        "* In Python, a file containing function and class definitions, statements, etc. is called a **module**, and a package is a collection of modules.\n",
        "\n",
        "* For example, if you want to read a module called `A`, the simplest way is to write `import A`.\n",
        "\n",
        "* If the module name `A` is long, you can use an alias like `import A as B`.\n",
        "\n",
        "* If an alias is given using `as`, the module can be used with that alias from now on.\n",
        "\n",
        "* If you write `import A as B`, the module `A` will be available under the name `B`.\n",
        "\n",
        "* `numpy` is often given the alias `np`.\n",
        "\n",
        "* Let `numpy` be `import` with the name `np`."
      ]
    },
    {
      "cell_type": "code",
      "execution_count": null,
      "metadata": {
        "id": "YGm0nN_vuWfY"
      },
      "outputs": [],
      "source": [
        "import numpy as np"
      ]
    },
    {
      "cell_type": "markdown",
      "metadata": {
        "id": "SB5_Yx1qXAcN"
      },
      "source": [
        "## 多次元配列を定義する/Define multidimensional arrays\n",
        "\n",
        "* ベクトル・行列・テンソルなどは、プログラミング上は多次元配列により表現でき, NumPy では ndarray というクラスで多次元配列を表現します.\n",
        "\n",
        "* Vectors, matrices, tensors, etc. can be represented by multidimensional arrays in programming, and NumPy uses a class called ndarray to represent multidimensional arrays."
      ]
    },
    {
      "cell_type": "code",
      "execution_count": null,
      "metadata": {
        "colab": {
          "base_uri": "https://localhost:8080/",
          "height": 35
        },
        "id": "HTartJBpvinm",
        "outputId": "0731ea56-3ac2-4ec5-c073-69a029d6d2c3"
      },
      "outputs": [
        {
          "data": {
            "text/plain": [
              "array([1, 2, 3])"
            ]
          },
          "execution_count": 2,
          "metadata": {
            "tags": []
          },
          "output_type": "execute_result"
        }
      ],
      "source": [
        "# ベクトルの定義/Definition of Vector\n",
        "a = np.array([1, 2, 3])\n",
        "\n",
        "a"
      ]
    },
    {
      "cell_type": "markdown",
      "metadata": {
        "id": "LCbcrkX6hszo"
      },
      "source": [
        "* Python リスト `[1, 2, 3]` を `np.array()` に渡すことで, $[1, 2, 3]$ というベクトルを表す ndarray オブジェクトを作ることができます.\n",
        "\n",
        "* ndarray オブジェクトは `shape` という属性を持っており, その多次元配列の形が保存されています.\n",
        "\n",
        "* 上で定義した `a` という ndarray オブジェクトの形を調べてみます.\n",
        "\n",
        "* You can create an ndarray object representing a vector $[1, 2, 3]$ by passing the Python list `[1, 2, 3]` to `np.array()`.\n",
        "\n",
        "* The ndarray object has an attribute `shape`, which preserves the shape of its multidimensional array.\n",
        "\n",
        "* Let us examine the shape of the ndarray object `a` defined above."
      ]
    },
    {
      "cell_type": "code",
      "execution_count": null,
      "metadata": {
        "colab": {
          "base_uri": "https://localhost:8080/",
          "height": 35
        },
        "id": "O2GmnrGVhszq",
        "outputId": "b3cf41ce-66f9-434a-9082-22af7ed8ff9c"
      },
      "outputs": [
        {
          "data": {
            "text/plain": [
              "(3,)"
            ]
          },
          "execution_count": 3,
          "metadata": {
            "tags": []
          },
          "output_type": "execute_result"
        }
      ],
      "source": [
        "a.shape"
      ]
    },
    {
      "cell_type": "markdown",
      "metadata": {
        "id": "YlU3JFZVhszw"
      },
      "source": [
        "* `(3,)` という要素数が 1 の Python のタプルが表示されています.\n",
        "\n",
        "* ndarray の形は, 要素が整数のタプルで表され, 要素数はその多次元配列の次元数を表します.\n",
        "\n",
        "* 形は, その多次元配列の各次元の大きさを順に並べた整数のタプルになっています.\n",
        "\n",
        "* 次元数は, ndarray の `ndim` という属性に保存されています.\n",
        "\n",
        "* `(3,)`, a Python tuple with 1 element, is shown.\n",
        "\n",
        "* The ndarray shape is an integer tuple of elements, where the number of elements represents the number of dimensions of the multidimensional array.\n",
        "\n",
        "* The shape is an integer tuple of the size of each dimension of the multidimensional array in order.\n",
        "\n",
        "* The number of dimensions is stored in the attribute `ndim` of ndarray."
      ]
    },
    {
      "cell_type": "code",
      "execution_count": null,
      "metadata": {
        "colab": {
          "base_uri": "https://localhost:8080/",
          "height": 35
        },
        "id": "TClptSKihszx",
        "outputId": "1a22e147-f5cb-4cca-d586-351891bef7dc"
      },
      "outputs": [
        {
          "data": {
            "text/plain": [
              "1"
            ]
          },
          "execution_count": 4,
          "metadata": {
            "tags": []
          },
          "output_type": "execute_result"
        }
      ],
      "source": [
        "a.ndim"
      ]
    },
    {
      "cell_type": "markdown",
      "metadata": {
        "id": "ALEfYmAuhsz1"
      },
      "source": [
        "* これは, `len(a.shape)` と同じ値になります.\n",
        "\n",
        "* `a` という ndarray は 1 次元配列なので, `a.shape` は要素数が 1 のタプルで, `ndim` の値は 1 でした.\n",
        "\n",
        "* This is the same value as `len(a.shape)`.\n",
        "\n",
        "* Since the ndarray `a` is a 1-dimensional array, `a.shape` is a tuple of 1 elements and the value of `ndim` is 1."
      ]
    },
    {
      "cell_type": "markdown",
      "metadata": {
        "id": "oQcB5yZvhsz2"
      },
      "source": [
        "* 次に、$3 \\times 3$ 行列を定義してみましょう。\n",
        "\n",
        "* Next, let us define a $3 \\times 3$ matrix."
      ]
    },
    {
      "cell_type": "code",
      "execution_count": null,
      "metadata": {
        "colab": {
          "base_uri": "https://localhost:8080/",
          "height": 70
        },
        "id": "u3MkTwo0jM1y",
        "outputId": "daed274d-9d7f-43b4-9b3b-3f729ce821ad"
      },
      "outputs": [
        {
          "data": {
            "text/plain": [
              "array([[1, 2, 3],\n",
              "       [4, 5, 6],\n",
              "       [7, 8, 9]])"
            ]
          },
          "execution_count": 5,
          "metadata": {
            "tags": []
          },
          "output_type": "execute_result"
        }
      ],
      "source": [
        "# 行列の定義/Matrix Definition\n",
        "b = np.array(\n",
        "    [[1, 2, 3],\n",
        "     [4, 5, 6],\n",
        "     [7, 8, 9]]\n",
        ")\n",
        "\n",
        "b"
      ]
    },
    {
      "cell_type": "markdown",
      "metadata": {
        "id": "NEZor0zths0B"
      },
      "source": [
        "* 形と次元数を調べます。\n",
        "\n",
        "* Examine the shape and dimensionality."
      ]
    },
    {
      "cell_type": "code",
      "execution_count": null,
      "metadata": {
        "colab": {
          "base_uri": "https://localhost:8080/",
          "height": 52
        },
        "id": "VdoPp_H3hs0C",
        "outputId": "d326c3de-28b0-40ba-d594-ff6befef3ceb"
      },
      "outputs": [
        {
          "name": "stdout",
          "output_type": "stream",
          "text": [
            "Shape: (3, 3)\n",
            "Rank: 2\n"
          ]
        }
      ],
      "source": [
        "print('Shape:', b.shape)\n",
        "print('Rank:', b.ndim)"
      ]
    },
    {
      "cell_type": "markdown",
      "metadata": {
        "id": "GRcKmhhRhs0G"
      },
      "source": [
        "* `size` という属性も見てみましょう。\n",
        "\n",
        "* Let's also look at the attribute `size`."
      ]
    },
    {
      "cell_type": "code",
      "execution_count": null,
      "metadata": {
        "colab": {
          "base_uri": "https://localhost:8080/",
          "height": 35
        },
        "id": "nL7kUxyThs0H",
        "outputId": "a5a99a98-b7a6-4ff4-f71e-841259bf2801"
      },
      "outputs": [
        {
          "data": {
            "text/plain": [
              "9"
            ]
          },
          "execution_count": 7,
          "metadata": {
            "tags": []
          },
          "output_type": "execute_result"
        }
      ],
      "source": [
        "b.size"
      ]
    },
    {
      "cell_type": "markdown",
      "metadata": {
        "id": "6qHL5knGhs0L"
      },
      "source": [
        "* これは, `b` という ndarray が持つ要素の数を表しています.\n",
        "\n",
        "* `b` は $3 \\times 3$ 行列なので, 要素数は 9 です.\n",
        "\n",
        "* NumPy の ndarray の作成方法には, `np.array()` を用いて Python のリストから多次元配列を作る方法以外にも色々な方法があります.\n",
        "\n",
        "* 以下に代表的な例をいくつか紹介します.\n",
        "\n",
        "* This represents the number of elements in the ndarray `b`.\n",
        "\n",
        "* `b` is a $3 \\times 3$ matrix, so it has 9 elements.\n",
        "\n",
        "* There are various ways to create a NumPy ndarray other than using `np.array()` to create a multi-dimensional array from a Python list.\n",
        "\n",
        "* Here are some typical examples."
      ]
    },
    {
      "cell_type": "code",
      "execution_count": null,
      "metadata": {
        "colab": {
          "base_uri": "https://localhost:8080/",
          "height": 70
        },
        "id": "-E2Rtwq9hs0N",
        "outputId": "8a89d4fb-508c-4328-8001-6837b331eed2"
      },
      "outputs": [
        {
          "data": {
            "text/plain": [
              "array([[0., 0., 0.],\n",
              "       [0., 0., 0.],\n",
              "       [0., 0., 0.]])"
            ]
          },
          "execution_count": 8,
          "metadata": {
            "tags": []
          },
          "output_type": "execute_result"
        }
      ],
      "source": [
        "# 形を指定して、要素が全て 0 で埋められた ndarray を作る\n",
        "# Create an ndarray whose elements are all filled with zeros by specifying the shape\n",
        "a = np.zeros((3, 3))\n",
        "\n",
        "a"
      ]
    },
    {
      "cell_type": "code",
      "execution_count": null,
      "metadata": {
        "colab": {
          "base_uri": "https://localhost:8080/",
          "height": 52
        },
        "id": "870IpdMyhs0R",
        "outputId": "b45b6bf4-22b8-495f-c15f-6e6467ef6fb9"
      },
      "outputs": [
        {
          "data": {
            "text/plain": [
              "array([[1., 1., 1.],\n",
              "       [1., 1., 1.]])"
            ]
          },
          "execution_count": 9,
          "metadata": {
            "tags": []
          },
          "output_type": "execute_result"
        }
      ],
      "source": [
        "# 形を指定して、要素が全て 1 で埋められた ndarray を作る\n",
        "# Create an ndarray whose elements are all filled with 1's by specifying the shape\n",
        "b = np.ones((2, 3))\n",
        "\n",
        "b"
      ]
    },
    {
      "cell_type": "code",
      "execution_count": null,
      "metadata": {
        "colab": {
          "base_uri": "https://localhost:8080/",
          "height": 70
        },
        "id": "xndboQKyhs0W",
        "outputId": "1371ef3d-043c-48dc-de8c-6d8d05f9cfdf"
      },
      "outputs": [
        {
          "data": {
            "text/plain": [
              "array([[9, 9],\n",
              "       [9, 9],\n",
              "       [9, 9]])"
            ]
          },
          "execution_count": 10,
          "metadata": {
            "tags": []
          },
          "output_type": "execute_result"
        }
      ],
      "source": [
        "# 形と値を指定して、要素が指定した値で埋められた ndarray を作る\n",
        "# Specify a form and value to create an ndarray whose elements are filled with the specified values\n",
        "c = np.full((3, 2), 9)\n",
        "\n",
        "c"
      ]
    },
    {
      "cell_type": "code",
      "execution_count": null,
      "metadata": {
        "colab": {
          "base_uri": "https://localhost:8080/",
          "height": 106
        },
        "id": "WA5IUfrmhs0b",
        "outputId": "b3162424-a0a9-4110-dc3b-cb291a90ac91"
      },
      "outputs": [
        {
          "data": {
            "text/plain": [
              "array([[1., 0., 0., 0., 0.],\n",
              "       [0., 1., 0., 0., 0.],\n",
              "       [0., 0., 1., 0., 0.],\n",
              "       [0., 0., 0., 1., 0.],\n",
              "       [0., 0., 0., 0., 1.]])"
            ]
          },
          "execution_count": 11,
          "metadata": {
            "tags": []
          },
          "output_type": "execute_result"
        }
      ],
      "source": [
        "# 指定された大きさの単位行列を表す ndarray を作る\n",
        "# Create an ndarray representing a unit matrix of the specified size\n",
        "d = np.eye(5)\n",
        "\n",
        "d"
      ]
    },
    {
      "cell_type": "code",
      "execution_count": null,
      "metadata": {
        "colab": {
          "base_uri": "https://localhost:8080/",
          "height": 88
        },
        "id": "YLH4LMVThs0h",
        "outputId": "97b95b3c-ace3-4caf-ec13-d4e01d5d3c7d",
        "scrolled": true
      },
      "outputs": [
        {
          "data": {
            "text/plain": [
              "array([[0.945015  , 0.43016639, 0.29548392, 0.95129474, 0.79083349],\n",
              "       [0.38302104, 0.81301269, 0.89543488, 0.98794199, 0.07312155],\n",
              "       [0.28104454, 0.05910526, 0.82286822, 0.80324149, 0.34598631],\n",
              "       [0.27901198, 0.99971565, 0.80767343, 0.8232321 , 0.53487828]])"
            ]
          },
          "execution_count": 12,
          "metadata": {
            "tags": []
          },
          "output_type": "execute_result"
        }
      ],
      "source": [
        "# 形を指定して、 0 ~ 1 の間の乱数で要素を埋めた ndarray を作る\n",
        "# Create an ndarray with elements filled with random numbers between 0 and 1, specifying the shape\n",
        "e = np.random.random((4, 5))\n",
        "\n",
        "e"
      ]
    },
    {
      "cell_type": "code",
      "execution_count": null,
      "metadata": {
        "colab": {
          "base_uri": "https://localhost:8080/",
          "height": 35
        },
        "id": "JrlPdcOths0r",
        "outputId": "016d37ff-60d6-4aa1-cdb2-ad58154e10fe"
      },
      "outputs": [
        {
          "data": {
            "text/plain": [
              "array([3, 4, 5, 6, 7, 8, 9])"
            ]
          },
          "execution_count": 13,
          "metadata": {
            "tags": []
          },
          "output_type": "execute_result"
        }
      ],
      "source": [
        "# 3 から始まり 10 になるまで 1 ずつ増加する数列を作る（10 は含まない）\n",
        "# Construct a sequence of numbers starting from 3 and increasing by 1 until it reaches 10 (not including 10)\n",
        "f = np.arange(3, 10, 1)\n",
        "\n",
        "f"
      ]
    },
    {
      "cell_type": "markdown",
      "metadata": {
        "id": "1rPZMxVIhs0w"
      },
      "source": [
        "## 多次元配列の要素を選択する/Selecting elements of a multidimensional array\n",
        "\n",
        "* 作成した ndarray のうちの特定の要素を選択して, 値を取り出す方法を紹介します.\n",
        "\n",
        "* 最もよく行われる方法は `[]` を使った添字表記による要素の選択です.\n",
        "\n",
        "* We will show you how to select a specific element of the created ndarray and retrieve its value.\n",
        "\n",
        "* The most common way is to select elements by subscript notation using `[]`."
      ]
    },
    {
      "cell_type": "markdown",
      "metadata": {
        "id": "yjqfy8AVhs0x"
      },
      "source": [
        "### 整数による要素の選択/Element Selection by Integer\n",
        "\n",
        "* 例えば, 上で作成した `e` という $4 \\times 5$ 行列を表す多次元配列から, 1 行 2 列目の値を取り出すには、以下のようにします.\n",
        "\n",
        "* For example, to retrieve the values of the first row and second column from the multidimensional array representing the $4 \\times 5$ matrix named `e` created above, do the following:"
      ]
    },
    {
      "cell_type": "code",
      "execution_count": null,
      "metadata": {
        "colab": {
          "base_uri": "https://localhost:8080/",
          "height": 35
        },
        "id": "4wXjOOjyhs0y",
        "outputId": "6581d4a6-dc3c-46a5-cc00-c91923b2e7a4",
        "scrolled": true
      },
      "outputs": [
        {
          "data": {
            "text/plain": [
              "0.43016638598041224"
            ]
          },
          "execution_count": 14,
          "metadata": {
            "tags": []
          },
          "output_type": "execute_result"
        }
      ],
      "source": [
        "val = e[0, 1]\n",
        "\n",
        "val"
      ]
    },
    {
      "cell_type": "markdown",
      "metadata": {
        "id": "FPYVW5rqhs02"
      },
      "source": [
        "* 「1 行 2 列目」を指定するのに, インデックスは `[0, 1]` でした.\n",
        "\n",
        "* これはNumPy の ndarray の要素は Python リストと同じく, 添字が 0 から始まる**ゼロベースインデックス （zero-based index）** が採用されているためです.\n",
        "\n",
        "* つまり, この行列の i 行 j 列目の値は, `[i - 1, j - 1]` で取り出すことができます.\n",
        "\n",
        "* The index `[0, 1]` is used to specify \"row 1 column 2\".\n",
        "\n",
        "* This is because NumPy ndarray elements, like Python lists, have **zero-based indexes** starting from 0.\n",
        "\n",
        "* That is, the value of the i-th row and j-th column of the matrix can be retrieved by `[i - 1, j - 1]`."
      ]
    },
    {
      "cell_type": "markdown",
      "metadata": {
        "id": "qWnR7Eurhs03"
      },
      "source": [
        "### スライスによる要素の選択/Element selection by slicing\n",
        "\n",
        "* NumPy の ndarray に対しても, Python のリストと同様に**スライス表記 （slicing）** を用いて選択したい要素を範囲指定することができます.\n",
        "\n",
        "* ndarray はさらにカンマ区切りで複数の次元に対するスライスを指定できます.\n",
        "\n",
        "* NumPy's ndarray, like Python's list, allows you to specify a range of elements to be selected using **slicing notation**.\n",
        "\n",
        "* ndarray can further specify slices for multiple dimensions, separated by commas."
      ]
    },
    {
      "cell_type": "code",
      "execution_count": null,
      "metadata": {
        "colab": {
          "base_uri": "https://localhost:8080/",
          "height": 52
        },
        "id": "Q0nqhCpfhs04",
        "outputId": "065d1646-ba1a-4b0c-92ef-36ea788ab8aa",
        "scrolled": true
      },
      "outputs": [
        {
          "data": {
            "text/plain": [
              "array([[0.81301269, 0.89543488, 0.98794199],\n",
              "       [0.05910526, 0.82286822, 0.80324149]])"
            ]
          },
          "execution_count": 15,
          "metadata": {
            "tags": []
          },
          "output_type": "execute_result"
        }
      ],
      "source": [
        "# 4 x 5 行列 e の真ん中の 2 x 3 = 6 個の値を取り出す\n",
        "# Extract the middle 2 x 3 = 6 values of the 4 x 5 matrix e\n",
        "center = e[1:3, 1:4]\n",
        "\n",
        "center"
      ]
    },
    {
      "cell_type": "markdown",
      "metadata": {
        "id": "1FUL2bOkhs09"
      },
      "source": [
        "* 前節最後にある `e` の出力を見返すと, ちょうど真ん中の部分の $2 \\times 3$ 個の数字が取り出せていることが分かります.\n",
        "\n",
        "* ここで, `e` の中から `[1, 1]` の要素を起点として 2 行 3 列を取り出して作られた `center` の形を, `e` の形と比較してみましょう.\n",
        "\n",
        "* Looking back at the output of `e` at the end of the previous section, we can see that we have retrieved exactly $2 \\times 3$ numbers in the middle part.\n",
        "\n",
        "* Now compare the shape of `center`, created by taking two rows and three columns from `e` starting from the element `[1, 1]`, with the shape of `e`."
      ]
    },
    {
      "cell_type": "code",
      "execution_count": null,
      "metadata": {
        "colab": {
          "base_uri": "https://localhost:8080/",
          "height": 52
        },
        "id": "g57LOQJbhs0_",
        "outputId": "5ad96c57-27ec-4a5e-99e0-f40747463619"
      },
      "outputs": [
        {
          "name": "stdout",
          "output_type": "stream",
          "text": [
            "Shape of e: (4, 5)\n",
            "Shape of center: (2, 3)\n"
          ]
        }
      ],
      "source": [
        "print('Shape of e:', e.shape)\n",
        "print('Shape of center:', center.shape)"
      ]
    },
    {
      "cell_type": "markdown",
      "metadata": {
        "id": "5tbJR05ehs1F"
      },
      "source": [
        "* また、インデックスを指定したり、スライスを用いて取り出した ndarray の一部に対し、値を代入することもできます。\n",
        "\n",
        "* Can also specify an index or assign a value to a portion of the ndarray extracted using slices."
      ]
    },
    {
      "cell_type": "code",
      "execution_count": null,
      "metadata": {
        "colab": {
          "base_uri": "https://localhost:8080/",
          "height": 88
        },
        "id": "pnJGJ0sOhs1G",
        "outputId": "5b3be8f5-918e-4aaf-c304-4b08e52a0754"
      },
      "outputs": [
        {
          "data": {
            "text/plain": [
              "array([[0.945015  , 0.43016639, 0.29548392, 0.95129474, 0.79083349],\n",
              "       [0.38302104, 0.        , 0.        , 0.        , 0.07312155],\n",
              "       [0.28104454, 0.        , 0.        , 0.        , 0.34598631],\n",
              "       [0.27901198, 0.99971565, 0.80767343, 0.8232321 , 0.53487828]])"
            ]
          },
          "execution_count": 17,
          "metadata": {
            "tags": []
          },
          "output_type": "execute_result"
        }
      ],
      "source": [
        "# 先程の真ん中の 6 個の値を 0 にする\n",
        "# Set the middle six values to 0\n",
        "e[1:3, 1:4] = 0\n",
        "\n",
        "e"
      ]
    },
    {
      "cell_type": "markdown",
      "metadata": {
        "id": "7n7aJGJahs1J"
      },
      "source": [
        "### 整数配列による要素の選択/Element selection by integer array\n",
        "\n",
        "* ndarray の `[]` には, 整数やスライスの他に、整数配列を渡すこともできます.\n",
        "\n",
        "* 整数配列とは, ここでは整数を要素とする Python リストまたは ndarray のことを指しています.\n",
        "\n",
        "* $3 \\times 3$ 行列を表す `a` という ndarray を定義します.\n",
        "\n",
        "* You can pass an integer array as well as an integer or a slice to `[]` in ndarray.\n",
        "\n",
        "* An integer array is a Python list or ndarray whose  elements are integers.\n",
        "\n",
        "* Define an ndarray called `a` that represents a $3 \\times 3$ matrix."
      ]
    },
    {
      "cell_type": "code",
      "execution_count": null,
      "metadata": {
        "colab": {
          "base_uri": "https://localhost:8080/",
          "height": 70
        },
        "id": "XxgfjK2-hs1L",
        "outputId": "83abf535-d424-4c6c-d37a-4f0b0124a25f"
      },
      "outputs": [
        {
          "data": {
            "text/plain": [
              "array([[1, 2, 3],\n",
              "       [4, 5, 6],\n",
              "       [7, 8, 9]])"
            ]
          },
          "execution_count": 18,
          "metadata": {
            "tags": []
          },
          "output_type": "execute_result"
        }
      ],
      "source": [
        "a = np.array(\n",
        "    [[1, 2, 3],\n",
        "     [4, 5, 6],\n",
        "     [7, 8, 9]]\n",
        ")\n",
        "\n",
        "a"
      ]
    },
    {
      "cell_type": "markdown",
      "metadata": {
        "id": "qjX-7iNths1R"
      },
      "source": [
        "* この ndarray から\n",
        "\n",
        "1. 1 行 2 列目：`a[0, 1]`\n",
        "2. 3 行 2 列目：`a[2, 1]`\n",
        "3. 2 行 1 列目：`a[1, 0]`\n",
        "\n",
        "の 3 つの要素を選択して並べ, 形が `(3,)` であるような ndarray を作りたいとします.\n",
        "\n",
        "これは以下のように, 順に対象の要素を指定して並べて新しい ndarray にすることでももちろん実現できます.\n",
        "\n",
        "* From this ndarray we get\n",
        "\n",
        "1. row 1, column 2: `a[0, 1]`\n",
        "2. row 3, column 2: `a[2, 1]`\n",
        "3. row 2, column 1: `a[1, 0]`\n",
        "\n",
        "We want to select an ndarray of three elements of the form `(3,)` and arrange them in such a way that the form `(3,)` is `(3,)`.\n",
        "\n",
        "This can of course be accomplished by specifying the elements to be targeted in order and arranging them into a new ndarray, as follows."
      ]
    },
    {
      "cell_type": "code",
      "execution_count": null,
      "metadata": {
        "colab": {
          "base_uri": "https://localhost:8080/",
          "height": 35
        },
        "id": "UvEgg_eHhs1S",
        "outputId": "3f27d554-9d09-4327-8138-4d2b5c085b16"
      },
      "outputs": [
        {
          "data": {
            "text/plain": [
              "array([2, 8, 4])"
            ]
          },
          "execution_count": 19,
          "metadata": {
            "tags": []
          },
          "output_type": "execute_result"
        }
      ],
      "source": [
        "np.array([a[0, 1], a[2, 1], a[1, 0]])"
      ]
    },
    {
      "cell_type": "markdown",
      "metadata": {
        "id": "r2aNYWNFhs1V"
      },
      "source": [
        "* 同じことが**選択したい行, 選択したい列を, 順にそれぞれリストとして与える**ことでも行えます.\n",
        "\n",
        "* The same can be done by **giving each list of rows and columns to be selected in sequence**."
      ]
    },
    {
      "cell_type": "code",
      "execution_count": null,
      "metadata": {
        "colab": {
          "base_uri": "https://localhost:8080/",
          "height": 35
        },
        "id": "P1scHQiRhs1W",
        "outputId": "e0c1fe5d-4f63-4ba3-e3e9-8540b86f3b3e"
      },
      "outputs": [
        {
          "data": {
            "text/plain": [
              "array([2, 8, 4])"
            ]
          },
          "execution_count": 20,
          "metadata": {
            "tags": []
          },
          "output_type": "execute_result"
        }
      ],
      "source": [
        "a[[0, 2, 1], [1, 1, 0]]"
      ]
    },
    {
      "cell_type": "markdown",
      "metadata": {
        "id": "0sHruq-ohs1Z"
      },
      "source": [
        "* **選択したい 3 つの値がどの行にあるか**だけに着目すると, それぞれ 1 行目、3 行目、2 行目にある要素です.  \n",
        "ゼロベースインデックスでは, それぞれ 0, 2, 1 行目です.\n",
        "これが `a` の `[]` に与えられた 1 つ目のリスト `[0, 2, 1]` の意味です.  \n",
        "\n",
        "* 同様に, **列に着目**すると, ゼロベースインデックスでそれぞれ 1, 1, 0 列目の要素です.  \n",
        "これが `a` の `[]` に与えられた 2 つ目のリスト `[1, 1, 0]` の意味です.\n",
        "\n",
        "* Focusing only on **which row the three values you want to select are**, the elements are on rows 1, 3, and 2, respectively.  \n",
        "For zero-based indexes, they are rows 0, 2, and 1, respectively.  \n",
        "This is the meaning of the first list `[0, 2, 1]` given in `a`'s `[]`.  \n",
        "\n",
        "* Similarly, **looking at the columns**, these are the elements of columns 1, 1, and 0, respectively, at zero-based index.  \n",
        "This is the meaning of the second list `[1, 1, 0]` given to `[]` in `a`."
      ]
    },
    {
      "cell_type": "markdown",
      "metadata": {
        "id": "HDdtMWR4hs1a"
      },
      "source": [
        "## ndarray のデータ型/Data type of ndarray\n",
        "\n",
        "* 1 つの ndarray の要素は, 全て同じ型を持ちます.\n",
        "\n",
        "* NumPy では様々なデータ型を使うことができますが, ここでは一部だけを紹介します.\n",
        "\n",
        "* NumPy は Python リストを渡して ndarray を作る際などには, その値からデータ型を推測します.\n",
        "\n",
        "* ndarray のデータ型は, `dtype` という属性に保存されています.\n",
        "\n",
        "* The elements of a single ndarray all have the same type.\n",
        "\n",
        "* NumPy can use a variety of data types, but only a few are shown here.\n",
        "\n",
        "* When NumPy creates an ndarray by passing a Python list, for example, it infers the data type from the value.\n",
        "\n",
        "* The data type of an ndarray is stored in an attribute called `dtype`."
      ]
    },
    {
      "cell_type": "code",
      "execution_count": null,
      "metadata": {
        "colab": {
          "base_uri": "https://localhost:8080/",
          "height": 35
        },
        "id": "eU6frncOhs1d",
        "outputId": "3f764b12-bb3c-4a65-89ad-159d980a2c34"
      },
      "outputs": [
        {
          "data": {
            "text/plain": [
              "dtype('int64')"
            ]
          },
          "execution_count": 21,
          "metadata": {
            "tags": []
          },
          "output_type": "execute_result"
        }
      ],
      "source": [
        "# 整数（Python の int 型）の要素をもつリストを与えた場合\n",
        "# Given a list with integer (Python int type) elements\n",
        "x = np.array([1, 2, 3])\n",
        "\n",
        "x.dtype"
      ]
    },
    {
      "cell_type": "code",
      "execution_count": null,
      "metadata": {
        "colab": {
          "base_uri": "https://localhost:8080/",
          "height": 35
        },
        "id": "3C4OQKq9hs1k",
        "outputId": "f46446f4-a54b-4278-846f-86b82e8c32d1"
      },
      "outputs": [
        {
          "data": {
            "text/plain": [
              "dtype('float64')"
            ]
          },
          "execution_count": 22,
          "metadata": {
            "tags": []
          },
          "output_type": "execute_result"
        }
      ],
      "source": [
        "# 浮動小数点数（Python の float 型）の要素をもつリストを与えた場合/Given a list with elements that are floating point numbers (Python's float type)\n",
        "x = np.array([1., 2., 3.])\n",
        "\n",
        "x.dtype"
      ]
    },
    {
      "cell_type": "markdown",
      "metadata": {
        "id": "HTg_bqiuhs1o"
      },
      "source": [
        "* 以上のように, **Python の int 型は自動的に NumPy の int64 型**になりました.\n",
        "\n",
        "* **Python の float 型は自動的に NumPy の float64 型**になりました.\n",
        "\n",
        "* Python の int 型は NumPy の int_ 型に対応づけられており, Python の float 型は NumPy の float_ 型に対応づけられています.\n",
        "\n",
        "* この int_ 型はプラットフォームによって int64 型と同じ場合と int32 型と同じ場合があります.\n",
        "\n",
        "* float_ 型についても同様で、プラットフォームによって float64 型と同じ場合と float32 型と同じ場合があります.\n",
        "\n",
        "* 特定の型を指定して ndarray を作成するには, 以下のようにします.\n",
        "\n",
        "* As described above, **Python int types are now automatically NumPy int64 types**.\n",
        "\n",
        "* **Python floats are now automatically NumPy float64**.\n",
        "\n",
        "* Python int types now map to NumPy int_ types, and Python float types map to NumPy float_ types.\n",
        "\n",
        "* The int_ type may be the same as the int64 type or the int32 type, depending on the platform.\n",
        "\n",
        "* The same is true for the float_ type, which may be the same as the float64 type or the float32 type, depending on the platform.\n",
        "\n",
        "* To create an ndarray with a specific type, do the following:"
      ]
    },
    {
      "cell_type": "code",
      "execution_count": null,
      "metadata": {
        "colab": {
          "base_uri": "https://localhost:8080/",
          "height": 35
        },
        "id": "3UZiigfFhs1p",
        "outputId": "c422ade7-f6dc-412f-c40f-9ee18c47685b"
      },
      "outputs": [
        {
          "data": {
            "text/plain": [
              "dtype('float32')"
            ]
          },
          "execution_count": 23,
          "metadata": {
            "tags": []
          },
          "output_type": "execute_result"
        }
      ],
      "source": [
        "x = np.array([1, 2, 3], dtype=np.float32)\n",
        "\n",
        "x.dtype"
      ]
    },
    {
      "cell_type": "markdown",
      "metadata": {
        "id": "aWMTSehbhs1s"
      },
      "source": [
        "* このように, `dtype` という引数に NumPy の dtype オブジェクトを渡します.\n",
        "\n",
        "* これは 32 ビット浮動小数点数型を指定する例です.\n",
        "\n",
        "* 同じことが文字列で指定することによっても行えます.\n",
        "\n",
        "* Thus, the argument `dtype` is passed as a NumPy dtype object.\n",
        "\n",
        "* This is an example of specifying a 32-bit floating-point number type.\n",
        "\n",
        "* The same can be done by specifying it as a string."
      ]
    },
    {
      "cell_type": "code",
      "execution_count": null,
      "metadata": {
        "colab": {
          "base_uri": "https://localhost:8080/",
          "height": 35
        },
        "id": "jg3-zxU2yEpd",
        "outputId": "f59a3c33-7b99-42a3-8079-46d7bdd9b28e"
      },
      "outputs": [
        {
          "data": {
            "text/plain": [
              "dtype('float32')"
            ]
          },
          "execution_count": 24,
          "metadata": {
            "tags": []
          },
          "output_type": "execute_result"
        }
      ],
      "source": [
        "x = np.array([1, 2, 3], dtype='float32')\n",
        "\n",
        "x.dtype"
      ]
    },
    {
      "cell_type": "markdown",
      "metadata": {
        "id": "UZ2hdYZ_yEph"
      },
      "source": [
        "* これはさらに以下のように短く書くこともできます.\n",
        "\n",
        "* This can be written in short as follows:"
      ]
    },
    {
      "cell_type": "code",
      "execution_count": null,
      "metadata": {
        "colab": {
          "base_uri": "https://localhost:8080/",
          "height": 35
        },
        "id": "tnn0EQQmyEpk",
        "outputId": "84a57ee4-0b87-40c2-ccb6-c1672b71f27a"
      },
      "outputs": [
        {
          "data": {
            "text/plain": [
              "dtype('float32')"
            ]
          },
          "execution_count": 25,
          "metadata": {
            "tags": []
          },
          "output_type": "execute_result"
        }
      ],
      "source": [
        "x = np.array([1, 2, 3], dtype='f')\n",
        "\n",
        "x.dtype"
      ]
    },
    {
      "cell_type": "markdown",
      "metadata": {
        "id": "wa5IPghnyEps"
      },
      "source": [
        "* 一度あるデータ型で定義した配列のデータ型を別のものに変更するには, `astype` を用いて変換を行います.\n",
        "\n",
        "* To change the data type of an array once defined with one data type to another, use `astype` to perform the conversion."
      ]
    },
    {
      "cell_type": "code",
      "execution_count": null,
      "metadata": {
        "colab": {
          "base_uri": "https://localhost:8080/",
          "height": 35
        },
        "id": "fnqEBxUMhs1t",
        "outputId": "1191035e-7a37-4a43-fbe6-70f59fe0fcc8"
      },
      "outputs": [
        {
          "data": {
            "text/plain": [
              "dtype('float64')"
            ]
          },
          "execution_count": 26,
          "metadata": {
            "tags": []
          },
          "output_type": "execute_result"
        }
      ],
      "source": [
        "x = x.astype(np.float64)\n",
        "\n",
        "x.dtype"
      ]
    },
    {
      "cell_type": "markdown",
      "metadata": {
        "id": "gQtt_qLLjeLQ"
      },
      "source": [
        "## 多次元配列を用いた計算/Calculations using multidimensional arrays\n",
        "\n",
        "* ndarray を使って行列やベクトルを定義して, それらを用いていくつかの計算を行ってみます.\n",
        "\n",
        "* ndarray として定義されたベクトルや行列同士の**要素ごとの加減乗除**は, Python の数値同士の四則演算に用いられる `+`、`-`、`*`、`/` という記号を使って行えます.\n",
        "\n",
        "* 同じ形の行列を 2 つ定義し, それらの**要素ごとの**加減乗除を実行してみます.\n",
        "\n",
        "* Let's define matrices and vectors using ndarray and perform some calculations with them.\n",
        "\n",
        "* **Element-wise addition/division** of vectors or matrices defined as ndarray can be done using `+`, `-`, `*`, and `/` symbols used in Python for number-wise arithmetic.\n",
        "\n",
        "* Let's define two matrices of the same shape, and perform **element-wise** addition, subtraction, multiplication and division of those matrices."
      ]
    },
    {
      "cell_type": "code",
      "execution_count": null,
      "metadata": {
        "id": "_hpNMPZpw24s"
      },
      "outputs": [],
      "source": [
        "# 同じ形 (3 x 3) の行列を 2 つ定義する\n",
        "# Define two matrices of the same (3 x 3) form\n",
        "a = np.array([\n",
        "    [0, 1, 2],\n",
        "    [3, 4, 5],\n",
        "    [6, 7, 8]\n",
        "])\n",
        "\n",
        "b = np.array([\n",
        "    [1, 2, 3],\n",
        "    [4, 5, 6],\n",
        "    [7, 8, 9]\n",
        "])"
      ]
    },
    {
      "cell_type": "code",
      "execution_count": null,
      "metadata": {
        "colab": {
          "base_uri": "https://localhost:8080/",
          "height": 70
        },
        "id": "O5zs75ooyEp2",
        "outputId": "1965d192-50d8-4cb0-9f3c-ac294f27db4a"
      },
      "outputs": [
        {
          "data": {
            "text/plain": [
              "array([[ 1,  3,  5],\n",
              "       [ 7,  9, 11],\n",
              "       [13, 15, 17]])"
            ]
          },
          "execution_count": 28,
          "metadata": {
            "tags": []
          },
          "output_type": "execute_result"
        }
      ],
      "source": [
        "# 足し算/addition\n",
        "c = a + b\n",
        "\n",
        "c"
      ]
    },
    {
      "cell_type": "code",
      "execution_count": null,
      "metadata": {
        "colab": {
          "base_uri": "https://localhost:8080/",
          "height": 70
        },
        "id": "c2FOyv2YyEp5",
        "outputId": "fd28f151-0281-4e4f-a787-11db1d5ceeb0"
      },
      "outputs": [
        {
          "data": {
            "text/plain": [
              "array([[-1, -1, -1],\n",
              "       [-1, -1, -1],\n",
              "       [-1, -1, -1]])"
            ]
          },
          "execution_count": 29,
          "metadata": {
            "tags": []
          },
          "output_type": "execute_result"
        }
      ],
      "source": [
        "# 引き算/subtraction\n",
        "c = a - b\n",
        "\n",
        "c"
      ]
    },
    {
      "cell_type": "code",
      "execution_count": null,
      "metadata": {
        "colab": {
          "base_uri": "https://localhost:8080/",
          "height": 70
        },
        "id": "Pyiqo_ZYyEp8",
        "outputId": "436b891f-7d3b-4d30-afd2-7bca3f929955"
      },
      "outputs": [
        {
          "data": {
            "text/plain": [
              "array([[ 0,  2,  6],\n",
              "       [12, 20, 30],\n",
              "       [42, 56, 72]])"
            ]
          },
          "execution_count": 30,
          "metadata": {
            "tags": []
          },
          "output_type": "execute_result"
        }
      ],
      "source": [
        "# 掛け算/multiplication\n",
        "c = a * b\n",
        "\n",
        "c"
      ]
    },
    {
      "cell_type": "code",
      "execution_count": null,
      "metadata": {
        "colab": {
          "base_uri": "https://localhost:8080/",
          "height": 70
        },
        "id": "Ut6N5zcTyEqA",
        "outputId": "6eda2f36-e116-47d0-a45c-afc344f4c968"
      },
      "outputs": [
        {
          "data": {
            "text/plain": [
              "array([[0.        , 0.5       , 0.66666667],\n",
              "       [0.75      , 0.8       , 0.83333333],\n",
              "       [0.85714286, 0.875     , 0.88888889]])"
            ]
          },
          "execution_count": 31,
          "metadata": {
            "tags": []
          },
          "output_type": "execute_result"
        }
      ],
      "source": [
        "# 割り算/division\n",
        "c = a / b\n",
        "\n",
        "c"
      ]
    },
    {
      "cell_type": "markdown",
      "metadata": {
        "id": "HFZIVmCwhs13"
      },
      "source": [
        "* NumPy では, 与えられた多次元配列に対して要素ごとに計算を行う関数が色々と用意されています.\n",
        "\n",
        "* 以下にいくつかの例を示します.\n",
        "\n",
        "* NumPy provides various functions to perform element-by-element calculations on a given multidimensional array.\n",
        "\n",
        "* Some examples are shown below."
      ]
    },
    {
      "cell_type": "code",
      "execution_count": null,
      "metadata": {
        "colab": {
          "base_uri": "https://localhost:8080/",
          "height": 70
        },
        "id": "BUaEHDrcyEqL",
        "outputId": "57186cb3-188c-4b92-b354-8839496fa1de"
      },
      "outputs": [
        {
          "data": {
            "text/plain": [
              "array([[1.        , 1.41421356, 1.73205081],\n",
              "       [2.        , 2.23606798, 2.44948974],\n",
              "       [2.64575131, 2.82842712, 3.        ]])"
            ]
          },
          "execution_count": 32,
          "metadata": {
            "tags": []
          },
          "output_type": "execute_result"
        }
      ],
      "source": [
        "# 要素ごとに平方根を計算する/Calculate the square root for each element\n",
        "c = np.sqrt(b)\n",
        "\n",
        "c"
      ]
    },
    {
      "cell_type": "code",
      "execution_count": null,
      "metadata": {
        "colab": {
          "base_uri": "https://localhost:8080/",
          "height": 70
        },
        "id": "X9XlfvFths14",
        "outputId": "94d8138e-36b9-4b7f-fe90-fc8bce1ee4a4"
      },
      "outputs": [
        {
          "data": {
            "text/plain": [
              "array([[ 1,  4,  9],\n",
              "       [16, 25, 36],\n",
              "       [49, 64, 81]])"
            ]
          },
          "execution_count": 33,
          "metadata": {
            "tags": []
          },
          "output_type": "execute_result"
        }
      ],
      "source": [
        "# 要素ごとに値を n 乗する/n-multiply the value by n for each element\n",
        "n = 2\n",
        "c = np.power(b, n)\n",
        "\n",
        "c"
      ]
    },
    {
      "cell_type": "markdown",
      "metadata": {
        "id": "XC-OB1s_hs19"
      },
      "source": [
        "* 要素ごとに値を n 乗する計算は, 以下のように書くことができます.\n",
        "\n",
        "* The computation to multiply the value by n for each element can be written as follows:"
      ]
    },
    {
      "cell_type": "code",
      "execution_count": null,
      "metadata": {
        "colab": {
          "base_uri": "https://localhost:8080/",
          "height": 70
        },
        "id": "7ekgNzVlhs2F",
        "outputId": "c1b1deb1-4f7c-45e3-fd02-a0319d00219a"
      },
      "outputs": [
        {
          "data": {
            "text/plain": [
              "array([[   1,   16,   81],\n",
              "       [ 256,  625, 1296],\n",
              "       [2401, 4096, 6561]])"
            ]
          },
          "execution_count": 34,
          "metadata": {
            "tags": []
          },
          "output_type": "execute_result"
        }
      ],
      "source": [
        "c ** n"
      ]
    },
    {
      "cell_type": "markdown",
      "metadata": {
        "id": "9exqunixhs2K"
      },
      "source": [
        "* はじめに紹介した四則演算は, **同じ大きさの** 2 つの行列同士で行っていました.\n",
        "\n",
        "* ここで, $3 \\times 3$ 行列 `a` と 3 次元ベクトル `b` という大きさのことなる配列を定義して, それらを足してみます.\n",
        "\n",
        "* The first four arithmetic operations were performed between two matrices of **the same size**.\n",
        "\n",
        "* Now let us define a $3 \\times 3$ matrix `a` and a 3-dimensional vector `b` of different sizes and add them together."
      ]
    },
    {
      "cell_type": "code",
      "execution_count": null,
      "metadata": {
        "colab": {
          "base_uri": "https://localhost:8080/",
          "height": 70
        },
        "id": "geIUaMashs2L",
        "outputId": "0cb165b3-98fc-477d-fc97-1c4f23e4c5e2"
      },
      "outputs": [
        {
          "data": {
            "text/plain": [
              "array([[ 1,  3,  5],\n",
              "       [ 4,  6,  8],\n",
              "       [ 7,  9, 11]])"
            ]
          },
          "execution_count": 35,
          "metadata": {
            "tags": []
          },
          "output_type": "execute_result"
        }
      ],
      "source": [
        "a = np.array([\n",
        "    [0, 1, 2],\n",
        "    [3, 4, 5],\n",
        "    [6, 7, 8]\n",
        "])\n",
        "\n",
        "b = np.array([1, 2, 3])\n",
        "\n",
        "c = a + b\n",
        "\n",
        "c"
      ]
    },
    {
      "cell_type": "markdown",
      "metadata": {
        "id": "9dns4SENhs2T"
      },
      "source": [
        "* 形が同じ行列同士の場合と同様に計算することができました.\n",
        "\n",
        "* これは NumPy が自動的に**ブロードキャスト（broadcast）**と呼ばれる操作を行っているためです.\n",
        "\n",
        "* The same calculation could be performed as in the case of matrices of the same shape.\n",
        "\n",
        "* This is because NumPy automatically performs an operation called **broadcast**."
      ]
    },
    {
      "cell_type": "markdown",
      "metadata": {
        "id": "zD5qR1Dvhs2V"
      },
      "source": [
        "## ブロードキャスト/broadcast\n",
        "\n",
        "* 行列同士の要素ごとの四則演算は, 通常は行列の形が同じでなければ定義できません.\n",
        "\n",
        "* しかし, $3 \\times 3$ 行列に 3 次元ベクトルを足す計算が実行できました.\n",
        "\n",
        "* これが要素ごとの計算と同じように実行できる理由は, NumPy が自動的に 3 次元ベクトル `b` を 3 つ並べてできる $3 \\times 3$ 行列を想定し, `a` と同じ形に揃える操作を暗黙に行っているからです.\n",
        "\n",
        "* この操作を、**ブロードキャスト**と呼びます.\n",
        "\n",
        "* 算術演算を異なる形の配列同士で行う場合, NumPy は自動的に小さい方の配列を**ブロードキャスト**し, 大きい方の配列と形を合わせます.\n",
        "\n",
        "* ただし, この自動的に行われるブロードキャストでは, 行いたい算術演算が大きい方の配列の一部に対して**繰り返し行われる**ことで実現されるため, 実際に小さい方の配列のデータをコピーして大きい配列をメモリ上に作成することは可能な限り避けられます.\n",
        "\n",
        "* また, この繰り返しの計算は NumPy の内部の C 言語によって実装されたループで行われるため, 高速です.\n",
        "\n",
        "* よりシンプルな例で考えてみましょう.\n",
        "\n",
        "* 以下のような配列 `a` があり, この全ての要素を 2 倍にしたいとします.\n",
        "\n",
        "* Element-wise quadrature operations between matrices can usually only be defined if the matrices have the same * shape.\n",
        "\n",
        "* However, we were able to perform a calculation to add a 3-dimensional vector to a $3 \\times 3$ matrix.\n",
        "\n",
        "* The reason why this can be done as well as element-wise computation is that NumPy automatically assumes that the $3 \\times 3$ matrix is made up of three 3d vectors `b` and implicitly performs an operation to align it to the same shape as `a`.\n",
        "\n",
        "* This operation is called **broadcast**.\n",
        "\n",
        "* When arithmetic operations are performed on arrays of different * shapes, NumPy automatically **broadcasts** the smaller array and aligns it with the larger array.\n",
        "\n",
        "* However, this automatic broadcast is accomplished by **repeating** the desired arithmetic operation on a part of the larger array, so that the actual creation of the larger array in memory by copying the data of the smaller array is avoided as much as possible.\n",
        "\n",
        "* Also, this iterative computation is done in a loop implemented by the C language inside NumPy, so it is fast.\n",
        "\n",
        "* Let's consider a simpler example.\n",
        "\n",
        "* Suppose you have the following array `a` and you want to double all its elements."
      ]
    },
    {
      "cell_type": "code",
      "execution_count": null,
      "metadata": {
        "colab": {
          "base_uri": "https://localhost:8080/",
          "height": 35
        },
        "id": "65YCT4dzhs2W",
        "outputId": "df386959-2091-477f-9669-d9f4d72a8f80"
      },
      "outputs": [
        {
          "data": {
            "text/plain": [
              "array([1, 2, 3])"
            ]
          },
          "execution_count": 36,
          "metadata": {
            "tags": []
          },
          "output_type": "execute_result"
        }
      ],
      "source": [
        "a = np.array([1, 2, 3])\n",
        "\n",
        "a"
      ]
    },
    {
      "cell_type": "markdown",
      "metadata": {
        "id": "Zp1-yKjXhs2a"
      },
      "source": [
        "* このとき, 一つの方法は以下のように同じ形で要素が全て 2 である別の配列を定義し, これと要素ごとの積を計算するやり方です.\n",
        "\n",
        "* One way to do this is to define another array of the same shape with all elements 2 as shown below, and to compute the element-wise product with this array."
      ]
    },
    {
      "cell_type": "code",
      "execution_count": null,
      "metadata": {
        "colab": {
          "base_uri": "https://localhost:8080/",
          "height": 35
        },
        "id": "-HXN6pyVhs2b",
        "outputId": "ffcd209d-a7c2-412e-b79c-fe6955675ff3"
      },
      "outputs": [
        {
          "data": {
            "text/plain": [
              "array([2, 4, 6])"
            ]
          },
          "execution_count": 37,
          "metadata": {
            "tags": []
          },
          "output_type": "execute_result"
        }
      ],
      "source": [
        "b = np.array([2, 2, 2])\n",
        "\n",
        "c = a * b\n",
        "\n",
        "c"
      ]
    },
    {
      "cell_type": "markdown",
      "metadata": {
        "id": "Y7XJ7T6Mhs2g"
      },
      "source": [
        "* しかし, スカラの 2 をただ `a` に掛けるだけでも同じ結果が得られます.\n",
        "\n",
        "* However, the same result can be obtained by simply multiplying a scalar 2 by `a`."
      ]
    },
    {
      "cell_type": "code",
      "execution_count": null,
      "metadata": {
        "colab": {
          "base_uri": "https://localhost:8080/",
          "height": 35
        },
        "id": "XUC3S8jqhs2h",
        "outputId": "a27f7d90-c84a-4339-c152-a185dfc60a42"
      },
      "outputs": [
        {
          "data": {
            "text/plain": [
              "array([2, 4, 6])"
            ]
          },
          "execution_count": 38,
          "metadata": {
            "tags": []
          },
          "output_type": "execute_result"
        }
      ],
      "source": [
        "c = a * 2\n",
        "\n",
        "c"
      ]
    },
    {
      "cell_type": "markdown",
      "metadata": {
        "id": "SLje0bp-hs2k"
      },
      "source": [
        "* `* 2` という計算が`c` の 3 つの要素のどの要素に対する計算なのかが明示されていないため, NumPy はこれを全ての要素に対して行うという意味だと解釈して、スカラの 2 を `a` の要素数 3 だけ引き伸ばしてから掛けてくれます.\n",
        "\n",
        "* 形の異なる配列同士の計算がブロードキャストによって可能になるためにはルールがあります.\n",
        "\n",
        "* それは、**「2 つの配列の各次元が同じ大きさになっているか, どちらかが 1 であること」**です.\n",
        "\n",
        "* このルールを満たさない場合、NumPy は \"ValueError: operands could not be broadcast together with shapes (1 つ目の配列の形) (2 つ目の配列の形)\" というエラーを出します.\n",
        "\n",
        "* ブロードキャストされた配列の各次元のサイズは, 入力された配列のその次元のサイズの中で最大の値と同じになっています.\n",
        "\n",
        "* 入力された配列は, 各次元のサイズが入力のうち大きい方のサイズと同じになるようブロードキャストされ, その拡張されたサイズで計算されます.\n",
        "\n",
        "* もう少し具体例を見てみます.\n",
        "\n",
        "* 以下のような 2 つの配列 `a` と `b` を定義し, 足します.\n",
        "\n",
        "* Since the calculation `* 2` does not specify which of the three elements of `c` it is performed on, NumPy interprets it as meaning it is performed on all elements and multiplies the scalar 2 by the number of elements of `a`, 3, after stretching it.\n",
        "\n",
        "* There is a rule for broadcast to allow computation between arrays of different shapes. \n",
        "\n",
        "* **There is a rule that each dimension of two arrays must have the same size, or one of them must be 1.**\n",
        "\n",
        "* If this rule is not satisfied, NumPy will raise the error \"ValueError: operands could not be broadcast together with shapes (shapes of the first array)\".\n",
        "\n",
        "* The size of each dimension of the broadcasted array is the same as the largest value of that dimension in the input array.\n",
        "\n",
        "* The input array is broadcast so that the size of each dimension is the same as the larger size of the input, and is computed with that expanded size.\n",
        "\n",
        "* Let's look at a more concrete example.\n",
        "\n",
        "* Define two arrays `a` and `b` and add them as follows."
      ]
    },
    {
      "cell_type": "code",
      "execution_count": null,
      "metadata": {
        "colab": {
          "base_uri": "https://localhost:8080/",
          "height": 444
        },
        "id": "bD4dr8ilhs2l",
        "outputId": "c2a409b2-2d67-4ad4-85d1-ce8ed42a03c3"
      },
      "outputs": [
        {
          "name": "stdout",
          "output_type": "stream",
          "text": [
            "a:\n",
            " [[[6 2 0]]\n",
            "\n",
            " [[1 9 7]]]\n",
            "\n",
            "a.shape: (2, 1, 3)\n",
            "\n",
            "b:\n",
            " [[6]\n",
            " [2]\n",
            " [8]]\n",
            "\n",
            "b.shape: (3, 1)\n",
            "\n",
            "a + b:\n",
            " [[[12  8  6]\n",
            "  [ 8  4  2]\n",
            "  [14 10  8]]\n",
            "\n",
            " [[ 7 15 13]\n",
            "  [ 3 11  9]\n",
            "  [ 9 17 15]]]\n",
            "\n",
            "(a + b).shape: (2, 3, 3)\n"
          ]
        }
      ],
      "source": [
        "# 0 ~ 9 の範囲の値をランダムに用いて埋められた (2, 1, 3) と (3, 1) という大きさの配列を作る\n",
        "# Create arrays of sizes (2, 1, 3) and (3, 1) filled with random values in the range 0 ~ 9.\n",
        "a = np.random.randint(0, 10, (2, 1, 3))\n",
        "b = np.random.randint(0, 10, (3, 1))\n",
        "\n",
        "print('a:\\n', a)\n",
        "print('\\na.shape:', a.shape)\n",
        "print('\\nb:\\n', b)\n",
        "print('\\nb.shape:', b.shape)\n",
        "\n",
        "# 加算/addition\n",
        "c = a + b\n",
        "\n",
        "print('\\na + b:\\n', c)\n",
        "print('\\n(a + b).shape:', c.shape)"
      ]
    },
    {
      "cell_type": "markdown",
      "metadata": {
        "id": "o90A_pvhhs2u"
      },
      "source": [
        "* `a` の形は `(2, 1, 3)` で, `b` の形は `(3, 1)` でした.\n",
        "\n",
        "* この 2 つの配列の末尾次元 (trailing dimension)はそれぞれ 3 と 1 なので, ルールにあった「次元が同じサイズであるか, どちらかが 1 であること」を満たしています.\n",
        "\n",
        "* 次に各配列の第 2 次元に注目してみます.\n",
        "\n",
        "* それぞれ 1 と 3 です.\n",
        "\n",
        "* これもルールを満たしています。\n",
        "\n",
        "* ここで, `a` は 3 次元配列ですが, `b` は 2 次元配列です.\n",
        "\n",
        "* つまり, 次元数が異なっています.\n",
        "\n",
        "* このような場合, `b` は一番上の次元にサイズが 1 の次元が追加された形`(1, 3, 1)` として扱われます.\n",
        "\n",
        "* そして 2 つの配列の各次元ごとのサイズの最大値をとった形 `(2, 3, 3)` にブロードキャストされ, 足し算が行われます.\n",
        "\n",
        "* このように, もし 2 つの配列のランクが異なる場合は, 次元数が小さい方の配列が大きい方と同じ次元数になるまでその形の先頭に新たな次元が追加されます.\n",
        "\n",
        "* サイズが 1 の次元がいくつ追加されても, 要素の数は変わらないことに注意してください.\n",
        "\n",
        "* 要素数（`size` 属性で取得できる値）は, 各次元のサイズの掛け算になるので, 1 を何度かけても値は変わらないことから, これが成り立つことが分かります.\n",
        "\n",
        "* NumPy がブロードキャストのために自動的に行う新しい次元の挿入は, `[]` を使った以下の表な表記を用いることで手動で行うこともできます.\n",
        "\n",
        "* The shape of `a` is `(2, 1, 3)` and the shape of `b` is `(3, 1)`.\n",
        "\n",
        "* Since the trailing dimension of these two arrays are 3 and 1, respectively, the rule \"the dimensions must be of the same size or one of them must be 1\" is satisfied.\n",
        "\n",
        "* Next, let's look at the second dimension of each array.\n",
        "\n",
        "* They are 1 and 3, respectively.\n",
        "\n",
        "* This also satisfies the rule.\n",
        "\n",
        "* Here, `a` is a 3-dimensional array, while `b` is a 2-dimensional array.\n",
        "\n",
        "* That is, the number of dimensions are different.\n",
        "\n",
        "* In such a case, `b` is treated as `(1, 3, 1)` with the dimension of size 1 added to the top dimension.\n",
        "\n",
        "* Then it is broadcasted to `(2, 3, 3)`, which is the maximum size of each dimension of the two arrays, * and added together.\n",
        "\n",
        "* Thus, if the two arrays have different ranks, a new dimension is added at the beginning of the shape until the smaller array has the same number of dimensions as the larger one.\n",
        "\n",
        "* Note that the number of elements does not change no matter how many dimensions of size 1 are added.\n",
        "\n",
        "* This is true because the number of elements (the value you can get from the `size` attribute) is multiplied by the size of each dimension, so * multiplying by 1 many times does not change the value.\n",
        "\n",
        "* The automatic insertion of a new dimension for broadcast by NumPy can also be done manually by using the following tabular notation with `[]`."
      ]
    },
    {
      "cell_type": "code",
      "execution_count": null,
      "metadata": {
        "colab": {
          "base_uri": "https://localhost:8080/",
          "height": 70
        },
        "id": "6TwzCz9khs2v",
        "outputId": "b9390767-8ba0-4567-a7a7-dd5999cf4673"
      },
      "outputs": [
        {
          "name": "stdout",
          "output_type": "stream",
          "text": [
            "Original shape: (3, 1)\n",
            "Added new axis to the top: (1, 3, 1)\n",
            "Added new axis to the middle: (3, 1, 1)\n"
          ]
        }
      ],
      "source": [
        "print('Original shape:', b.shape)\n",
        "\n",
        "b_expanded = b[np.newaxis, :, :]\n",
        "\n",
        "print('Added new axis to the top:', b_expanded.shape)\n",
        "\n",
        "b_expanded2 = b[:, np.newaxis, :]\n",
        "\n",
        "print('Added new axis to the middle:', b_expanded2.shape)"
      ]
    },
    {
      "cell_type": "markdown",
      "metadata": {
        "id": "g3CSUaHAhs20"
      },
      "source": [
        "* `np.newaxis` が指定された位置に新しい次元が挿入されます.\n",
        "\n",
        "* 配列が持つ数値の数は変わっていません.\n",
        "\n",
        "* そのため, 挿入された次元のサイズは必ず 1 になります.\n",
        "\n",
        "* A new dimension is inserted at the position where `np.newaxis` is specified.\n",
        "\n",
        "* The number of numbers in the array remains unchanged.\n",
        "\n",
        "* Therefore, the size of the inserted dimension will always be 1."
      ]
    },
    {
      "cell_type": "code",
      "execution_count": null,
      "metadata": {
        "colab": {
          "base_uri": "https://localhost:8080/",
          "height": 70
        },
        "id": "eK7NmjCWhs21",
        "outputId": "cacfe9cc-76ec-4aec-ef10-d93662a75d3c"
      },
      "outputs": [
        {
          "data": {
            "text/plain": [
              "array([[6],\n",
              "       [2],\n",
              "       [8]])"
            ]
          },
          "execution_count": 41,
          "metadata": {
            "tags": []
          },
          "output_type": "execute_result"
        }
      ],
      "source": [
        "b"
      ]
    },
    {
      "cell_type": "code",
      "execution_count": null,
      "metadata": {
        "colab": {
          "base_uri": "https://localhost:8080/",
          "height": 70
        },
        "id": "wappsylzhs2_",
        "outputId": "30ed68c3-b11a-48d3-98bc-04fc0ea4fbdf"
      },
      "outputs": [
        {
          "data": {
            "text/plain": [
              "array([[[6],\n",
              "        [2],\n",
              "        [8]]])"
            ]
          },
          "execution_count": 42,
          "metadata": {
            "tags": []
          },
          "output_type": "execute_result"
        }
      ],
      "source": [
        "b_expanded"
      ]
    },
    {
      "cell_type": "code",
      "execution_count": null,
      "metadata": {
        "colab": {
          "base_uri": "https://localhost:8080/",
          "height": 106
        },
        "id": "l-IHRhU1hs3E",
        "outputId": "1b1c6f57-b8f6-421b-bb18-b254d3b4b355"
      },
      "outputs": [
        {
          "data": {
            "text/plain": [
              "array([[[6]],\n",
              "\n",
              "       [[2]],\n",
              "\n",
              "       [[8]]])"
            ]
          },
          "execution_count": 43,
          "metadata": {
            "tags": []
          },
          "output_type": "execute_result"
        }
      ],
      "source": [
        "b_expanded2"
      ]
    },
    {
      "cell_type": "markdown",
      "metadata": {
        "id": "Mv8XZb4Bhs3I"
      },
      "source": [
        "* NumPy のブロードキャストは慣れるまで直感に反するように感じる場合があるかもしれません.\n",
        "\n",
        "* しかし, 使いこなすと同じ計算が Python のループを使って行うよりも高速に行えるため, ブロードキャストを理解することは非常に重要です.\n",
        "\n",
        "* 一つ具体例を見てみます.\n",
        "\n",
        "* $5 \\times 5$ 行列 `a` に, 3 次元ベクトル `b` を足します.\n",
        "\n",
        "* まず, `a`、`b` および結果を格納する配列 `c` を定義します.\n",
        "\n",
        "* NumPy broadcasts may seem counter-intuitive until you get used to them.\n",
        "\n",
        "* However, once you get the hang of it, it is very important to understand broadcasts, since the same calculations can be done * much faster than using Python loops.\n",
        "\n",
        "* Let's look at a specific example.\n",
        "\n",
        "* Add a 3-dimensional vector `b` to a $5 \\times 5$ matrix `a`.\n",
        "\n",
        "* First, define an array `c` to store `a`, `b` and the result."
      ]
    },
    {
      "cell_type": "code",
      "execution_count": null,
      "metadata": {
        "id": "KW3-2Gz3hs3J"
      },
      "outputs": [],
      "source": [
        "a = np.array([\n",
        "    [0, 1, 2, 1, 0],\n",
        "    [3, 4, 5, 4, 3],\n",
        "    [6, 7, 8, 7, 6],\n",
        "    [3, 4, 5, 4, 4],\n",
        "    [0, 1, 2, 1, 0]\n",
        "])\n",
        "\n",
        "b = np.array([1, 2, 3, 4, 5])\n",
        "\n",
        "# 結果を格納する配列を先に作る/Create the array to store the results first.\n",
        "c = np.empty((5, 5))"
      ]
    },
    {
      "cell_type": "markdown",
      "metadata": {
        "id": "CaPTRYq1hs3L"
      },
      "source": [
        "* `%%timeit` という Jupyter Notebook で使用できるそのセルの実行時間を計測するためのマジックを使って, `a` の各行（1 次元目）に `b` の値を足していく計算を Python のループを使って 1 行ずつ処理していくコードの実行時間を測ってみます.\n",
        "\n",
        "* Using `%%timeit`, a Jupyter Notebook magic to measure the execution time of a cell, we will measure the execution time of the code that processes the calculation of adding the value of `b` to each row of `a` (the first dimension), one row at a time using a Python loop."
      ]
    },
    {
      "cell_type": "code",
      "execution_count": null,
      "metadata": {
        "colab": {
          "base_uri": "https://localhost:8080/",
          "height": 52
        },
        "id": "aTJ5owYUhs3M",
        "outputId": "91ad0294-e6ba-4b39-d536-a5563b1bd612"
      },
      "outputs": [
        {
          "name": "stdout",
          "output_type": "stream",
          "text": [
            "The slowest run took 90.12 times longer than the fastest. This could mean that an intermediate result is being cached.\n",
            "100000 loops, best of 3: 7.44 µs per loop\n"
          ]
        }
      ],
      "source": [
        "%%timeit\n",
        "for i in range(a.shape[0]):\n",
        "    c[i, :] = a[i, :] + b"
      ]
    },
    {
      "cell_type": "code",
      "execution_count": null,
      "metadata": {
        "colab": {
          "base_uri": "https://localhost:8080/",
          "height": 106
        },
        "id": "-6z4EGzXhs3Q",
        "outputId": "ea6f591f-4841-45b6-f460-7bd7f9a032c7"
      },
      "outputs": [
        {
          "data": {
            "text/plain": [
              "array([[ 1.,  3.,  5.,  5.,  5.],\n",
              "       [ 4.,  6.,  8.,  8.,  8.],\n",
              "       [ 7.,  9., 11., 11., 11.],\n",
              "       [ 4.,  6.,  8.,  8.,  9.],\n",
              "       [ 1.,  3.,  5.,  5.,  5.]])"
            ]
          },
          "execution_count": 46,
          "metadata": {
            "tags": []
          },
          "output_type": "execute_result"
        }
      ],
      "source": [
        "c"
      ]
    },
    {
      "cell_type": "markdown",
      "metadata": {
        "id": "3KXentjEhs3T"
      },
      "source": [
        "* 次に, NumPy のブロードキャストを活用した方法で同じ計算を行ってみます.\n",
        "\n",
        "* Next, let's try to perform the same calculation in a way that takes advantage of NumPy's broadcasts."
      ]
    },
    {
      "cell_type": "code",
      "execution_count": null,
      "metadata": {
        "colab": {
          "base_uri": "https://localhost:8080/",
          "height": 52
        },
        "id": "pCgJcwt7hs3T",
        "outputId": "5af58db9-d332-4d80-ee1c-938df607a7e6"
      },
      "outputs": [
        {
          "name": "stdout",
          "output_type": "stream",
          "text": [
            "The slowest run took 32.88 times longer than the fastest. This could mean that an intermediate result is being cached.\n",
            "1000000 loops, best of 3: 1.13 µs per loop\n"
          ]
        }
      ],
      "source": [
        "%%timeit\n",
        "c = a + b"
      ]
    },
    {
      "cell_type": "code",
      "execution_count": null,
      "metadata": {
        "colab": {
          "base_uri": "https://localhost:8080/",
          "height": 106
        },
        "id": "EAetPXrphs3Z",
        "outputId": "8d13e5ef-e68a-4bcd-d507-0086653a78ff"
      },
      "outputs": [
        {
          "data": {
            "text/plain": [
              "array([[ 1.,  3.,  5.,  5.,  5.],\n",
              "       [ 4.,  6.,  8.,  8.,  8.],\n",
              "       [ 7.,  9., 11., 11., 11.],\n",
              "       [ 4.,  6.,  8.,  8.,  9.],\n",
              "       [ 1.,  3.,  5.,  5.,  5.]])"
            ]
          },
          "execution_count": 48,
          "metadata": {
            "tags": []
          },
          "output_type": "execute_result"
        }
      ],
      "source": [
        "c"
      ]
    },
    {
      "cell_type": "markdown",
      "metadata": {
        "id": "USEUvvcChs3c"
      },
      "source": [
        "* 計算結果は当然同じになります.\n",
        "\n",
        "* しかし, 実行時間が数倍短くなっています.\n",
        "\n",
        "* このようにブロードキャストを理解して活用することで, 記述が簡単になるだけでなく, 実行速度という点においても有利になります.\n",
        "\n",
        "* The result is the same, of course.\n",
        "\n",
        "* However, the execution time is several times shorter.\n",
        "\n",
        "* Understanding and utilizing broadcast in this way not only simplifies the description, but also gives an advantage in terms of execution * speed."
      ]
    },
    {
      "cell_type": "markdown",
      "metadata": {
        "id": "8Fd_G9JckA0Z"
      },
      "source": [
        "## 行列積/matrix product\n",
        "\n",
        "* 行列の要素ごとの積は `*` を用いて計算できました.\n",
        "\n",
        "* 一方, 通常の行列同士の積（行列積）の計算は`*` ではなく, 別の方法で行います.\n",
        "\n",
        "* 方法は 2 種類あります.\n",
        "\n",
        "* 1つは`np.dot()` 関数を用いる方法です.\n",
        "\n",
        "* `np.dot()` は 2 つの引数をとり, それらの行列積を計算して返す関数です.\n",
        "\n",
        "* 今, `A` という行列と `B` という行列があり, 行列積 `AB` を計算したいとします.\n",
        "\n",
        "* これは `np.dot(A, B)` と書くことで計算できます.\n",
        "\n",
        "* もし `BA` を計算したい場合は, `np.dot(B, A)` と書きます.\n",
        "\n",
        "* もう 1 つは, ndarray オブジェクトが持つ `dot()` メソッドを使う方法です.\n",
        "\n",
        "* これを用いると, 同じ計算が `A.dot(B)` と書くことによって行えます.\n",
        "\n",
        "* The element-wise product of matrices could be computed using `*`.\n",
        "\n",
        "* On the other hand, the usual product of matrices (matrix product) is not computed by `*`, but by another method.\n",
        "\n",
        "* There are two methods.\n",
        "\n",
        "* One is to use the function `np.dot()`.\n",
        "\n",
        "* `np.dot()` is a function that takes two arguments and computes and returns the matrix product of them.\n",
        "\n",
        "* Suppose you have a matrix `A` and a matrix `B`, and you want to compute the matrix product `AB`.\n",
        "\n",
        "* You can do this by writing `np.dot(A, B)`.\n",
        "\n",
        "* If you want to compute `BA`, write `np.dot(B, A)`.\n",
        "\n",
        "* Another way is to use the `dot()` method of the ndarray object.\n",
        "\n",
        "* With this method, the same computation can be done by writing `A.dot(B)`."
      ]
    },
    {
      "cell_type": "code",
      "execution_count": null,
      "metadata": {
        "id": "_rMylHNEhpFs"
      },
      "outputs": [],
      "source": [
        "# 行列 A の定義/Definition of matrix A\n",
        "A = np.array([\n",
        "    [0, 1, 2],\n",
        "    [3, 4, 5],\n",
        "    [6, 7, 8]\n",
        "])\n",
        "\n",
        "# 行列 B の定義/Definition of matrix B\n",
        "B = np.array([\n",
        "    [1, 2, 3],\n",
        "    [4, 5, 6],\n",
        "    [7, 8, 9]\n",
        "])"
      ]
    },
    {
      "cell_type": "markdown",
      "metadata": {
        "id": "P-mVIroIhs3j"
      },
      "source": [
        "* 実際にこの $3 \\times 3$ の 2 つの行列の行列積を計算してみます.\n",
        "\n",
        "* We will actually calculate the matrix product of these two matrices of $3 \\times 3$."
      ]
    },
    {
      "cell_type": "code",
      "execution_count": null,
      "metadata": {
        "colab": {
          "base_uri": "https://localhost:8080/",
          "height": 70
        },
        "id": "Go9DfbmXhs3l",
        "outputId": "6b11a289-b91f-4944-fb63-f41f61feb496"
      },
      "outputs": [
        {
          "data": {
            "text/plain": [
              "array([[ 18,  21,  24],\n",
              "       [ 54,  66,  78],\n",
              "       [ 90, 111, 132]])"
            ]
          },
          "execution_count": 50,
          "metadata": {
            "tags": []
          },
          "output_type": "execute_result"
        }
      ],
      "source": [
        "# 行列積の計算 (1)/Calculate matrix product (1)\n",
        "C = np.dot(A, B)\n",
        "\n",
        "C"
      ]
    },
    {
      "cell_type": "markdown",
      "metadata": {
        "id": "FNU92PFPhs3o"
      },
      "source": [
        "* 同じ計算をもう一つの記述方法で行ってみます.\n",
        "\n",
        "* Let us try the same calculation with another description."
      ]
    },
    {
      "cell_type": "code",
      "execution_count": null,
      "metadata": {
        "colab": {
          "base_uri": "https://localhost:8080/",
          "height": 70
        },
        "id": "-YmjkeC8hs3p",
        "outputId": "a6b3774a-f02f-4029-d721-f15140be7e05"
      },
      "outputs": [
        {
          "data": {
            "text/plain": [
              "array([[ 18,  21,  24],\n",
              "       [ 54,  66,  78],\n",
              "       [ 90, 111, 132]])"
            ]
          },
          "execution_count": 51,
          "metadata": {
            "tags": []
          },
          "output_type": "execute_result"
        }
      ],
      "source": [
        "C = A.dot(B)\n",
        "\n",
        "C"
      ]
    },
    {
      "cell_type": "code",
      "execution_count": null,
      "metadata": {
        "colab": {
          "base_uri": "https://localhost:8080/",
          "height": 35
        },
        "id": "E6UqcewwoFOv",
        "outputId": "be98d878-fdc0-4ea3-b152-cc093bd3628a"
      },
      "outputs": [
        {
          "data": {
            "text/plain": [
              "dtype('int64')"
            ]
          },
          "execution_count": 52,
          "metadata": {
            "tags": []
          },
          "output_type": "execute_result"
        }
      ],
      "source": [
        "# データ型の確認（整数値）/Check data type (integer value)\n",
        "a.dtype"
      ]
    },
    {
      "cell_type": "markdown",
      "metadata": {
        "id": "4SH7NONRpfO1"
      },
      "source": [
        "## 基本的な統計量の求め方/How to obtain basic statistics\n",
        "\n",
        "* 多次元配列に含まれる値の平均・分散・標準偏差・最大値・最小値といった統計値を計算する方法を紹介します.\n",
        "\n",
        "* $8 \\times 10$ の行列を作成し, この中に含まれる値全体に渡るこれらの統計値を計算してみます.\n",
        "\n",
        "* We will show you how to compute statistics such as mean, variance, standard deviation, maximum and minimum of values contained in a multidimensional array.\n",
        "\n",
        "* We will create a matrix of $8 \\times 10$ and compute these statistics over the whole values contained in the matrix."
      ]
    },
    {
      "cell_type": "code",
      "execution_count": null,
      "metadata": {
        "colab": {
          "base_uri": "https://localhost:8080/",
          "height": 159
        },
        "id": "QtRVfBYahs3w",
        "outputId": "abeeb50a-9f79-43c4-ab98-c754885dbda9"
      },
      "outputs": [
        {
          "data": {
            "text/plain": [
              "array([[3, 8, 3, 3, 0, 7, 0, 8, 7, 4],\n",
              "       [7, 0, 8, 4, 3, 1, 7, 7, 4, 3],\n",
              "       [7, 4, 5, 5, 9, 5, 2, 4, 5, 2],\n",
              "       [4, 3, 6, 8, 0, 1, 5, 8, 4, 9],\n",
              "       [1, 8, 1, 0, 6, 7, 1, 2, 8, 3],\n",
              "       [8, 6, 0, 8, 0, 8, 6, 4, 8, 4],\n",
              "       [6, 7, 5, 5, 7, 2, 2, 8, 4, 8],\n",
              "       [4, 4, 2, 3, 8, 8, 1, 6, 1, 9]])"
            ]
          },
          "execution_count": 53,
          "metadata": {
            "tags": []
          },
          "output_type": "execute_result"
        }
      ],
      "source": [
        "x = np.random.randint(0, 10, (8, 10))\n",
        "\n",
        "x"
      ]
    },
    {
      "cell_type": "code",
      "execution_count": null,
      "metadata": {
        "colab": {
          "base_uri": "https://localhost:8080/",
          "height": 35
        },
        "id": "Vrkpn1d4qBNF",
        "outputId": "f0f3154b-bf1f-4acc-d14d-9b1bd1dde7b4"
      },
      "outputs": [
        {
          "data": {
            "text/plain": [
              "4.65"
            ]
          },
          "execution_count": 54,
          "metadata": {
            "tags": []
          },
          "output_type": "execute_result"
        }
      ],
      "source": [
        "# 平均値/mean value\n",
        "x.mean()"
      ]
    },
    {
      "cell_type": "code",
      "execution_count": null,
      "metadata": {
        "colab": {
          "base_uri": "https://localhost:8080/",
          "height": 35
        },
        "id": "Y_50qftbhs34",
        "outputId": "f0a8f5db-8c8e-465a-fd5c-4f788c0aae14"
      },
      "outputs": [
        {
          "data": {
            "text/plain": [
              "7.5025"
            ]
          },
          "execution_count": 55,
          "metadata": {
            "tags": []
          },
          "output_type": "execute_result"
        }
      ],
      "source": [
        "# 分散/viriance\n",
        "x.var()"
      ]
    },
    {
      "cell_type": "code",
      "execution_count": null,
      "metadata": {
        "colab": {
          "base_uri": "https://localhost:8080/",
          "height": 35
        },
        "id": "OwpUSNzeqMLq",
        "outputId": "f8abd453-55cf-4465-cd41-7c8d94982389"
      },
      "outputs": [
        {
          "data": {
            "text/plain": [
              "2.7390691849604676"
            ]
          },
          "execution_count": 56,
          "metadata": {
            "tags": []
          },
          "output_type": "execute_result"
        }
      ],
      "source": [
        "# 標準偏差/standard deviation\n",
        "x.std()"
      ]
    },
    {
      "cell_type": "code",
      "execution_count": null,
      "metadata": {
        "colab": {
          "base_uri": "https://localhost:8080/",
          "height": 35
        },
        "id": "xw_9lddYqcHF",
        "outputId": "5230bc25-d738-4220-9c83-f73dbd067765"
      },
      "outputs": [
        {
          "data": {
            "text/plain": [
              "9"
            ]
          },
          "execution_count": 57,
          "metadata": {
            "tags": []
          },
          "output_type": "execute_result"
        }
      ],
      "source": [
        "# 最大値/maximum value\n",
        "x.max()"
      ]
    },
    {
      "cell_type": "code",
      "execution_count": null,
      "metadata": {
        "colab": {
          "base_uri": "https://localhost:8080/",
          "height": 35
        },
        "id": "zls9oBfsqfJn",
        "outputId": "873c3f93-0116-42f7-df85-4b50bce5b762"
      },
      "outputs": [
        {
          "data": {
            "text/plain": [
              "0"
            ]
          },
          "execution_count": 58,
          "metadata": {
            "tags": []
          },
          "output_type": "execute_result"
        }
      ],
      "source": [
        "# 最小値/minimum value\n",
        "x.min()"
      ]
    },
    {
      "cell_type": "markdown",
      "metadata": {
        "id": "wLLCGMeLhs4I"
      },
      "source": [
        "* `x` は 2 次元配列なので, 各次元に沿ったこれらの統計値の計算も行えます.\n",
        "\n",
        "* 例えば, 最後の次元内だけで平均をとると, 8 個の平均値が得られるはずです.\n",
        "\n",
        "* 平均を計算したい軸（何次元目に沿って計算するか）を `axis` という引数に指定します.\n",
        "\n",
        "* Since `x` is a 2-dimensional array, you can also compute these statistics along each dimension.\n",
        "\n",
        "* For example, if we take the average in the last dimension only, we will get 8 averages.\n",
        "\n",
        "* You can specify the axis along which you want to compute the averages (along which dimension) in the argument `axis`."
      ]
    },
    {
      "cell_type": "code",
      "execution_count": null,
      "metadata": {
        "colab": {
          "base_uri": "https://localhost:8080/",
          "height": 35
        },
        "id": "uvfzeCY3hs4I",
        "outputId": "b68937c7-a415-42a4-b7e5-1f6b79df82de"
      },
      "outputs": [
        {
          "data": {
            "text/plain": [
              "array([4.3, 4.4, 4.8, 4.8, 3.7, 5.2, 5.4, 4.6])"
            ]
          },
          "execution_count": 59,
          "metadata": {
            "tags": []
          },
          "output_type": "execute_result"
        }
      ],
      "source": [
        "x.mean(axis=1)"
      ]
    },
    {
      "cell_type": "markdown",
      "metadata": {
        "id": "4be3BgZ6hs4M"
      },
      "source": [
        "* これは, 以下のように 1 次元目の値の平均を計算していったものを並べているのと同じことです.\n",
        "\n",
        "* ゼロベースインデックスで考えています.\n",
        "\n",
        "* `x` の形は `(8, 10)` なので, 0 次元目のサイズが 8, 1 次元目のサイズが 10 です.\n",
        "\n",
        "* This is the same as the sequence of averages of the first dimension values as follows.\n",
        "\n",
        "* We are considering zero-based indexing.\n",
        "\n",
        "* The shape of `x` is `(8, 10)`, so the size of the zero dimension is 8 and the size of the first dimension is 10."
      ]
    },
    {
      "cell_type": "code",
      "execution_count": null,
      "metadata": {
        "colab": {
          "base_uri": "https://localhost:8080/",
          "height": 35
        },
        "id": "sjqqYnSths4N",
        "outputId": "898b5fbd-4e31-4717-8f0b-d5373f214c80"
      },
      "outputs": [
        {
          "data": {
            "text/plain": [
              "array([4.3, 4.4, 4.8, 4.8, 3.7, 5.2, 5.4, 4.6])"
            ]
          },
          "execution_count": 60,
          "metadata": {
            "tags": []
          },
          "output_type": "execute_result"
        }
      ],
      "source": [
        "np.array([\n",
        "    x[0, :].mean(),\n",
        "    x[1, :].mean(),\n",
        "    x[2, :].mean(),\n",
        "    x[3, :].mean(),\n",
        "    x[4, :].mean(),\n",
        "    x[5, :].mean(),\n",
        "    x[6, :].mean(),\n",
        "    x[7, :].mean(),\n",
        "])"
      ]
    },
    {
      "cell_type": "markdown",
      "metadata": {
        "id": "rulZyy5osZxR"
      },
      "source": [
        "## NumPy を用いた重回帰分析/Multiple regression analysis using NumPy\n",
        "\n",
        "* 重回帰分析を NumPy を用いて行います.\n",
        "\n",
        "* 4 つのデータをまとめた以下のようなデザイン行列が与えられたとします.\n",
        "\n",
        "* Multiple regression analysis is performed using NumPy.\n",
        "\n",
        "* Suppose we are given the following design matrix that summarizes the four datasets."
      ]
    },
    {
      "cell_type": "code",
      "execution_count": null,
      "metadata": {
        "colab": {
          "base_uri": "https://localhost:8080/",
          "height": 88
        },
        "id": "0grPocVNvn3P",
        "outputId": "1727f10c-dc5c-4864-937b-61a4e0fb4581"
      },
      "outputs": [
        {
          "data": {
            "text/plain": [
              "array([[2, 3],\n",
              "       [2, 5],\n",
              "       [3, 4],\n",
              "       [5, 9]])"
            ]
          },
          "execution_count": 61,
          "metadata": {
            "tags": []
          },
          "output_type": "execute_result"
        }
      ],
      "source": [
        "# Xの定義/Definition of X\n",
        "X = np.array([\n",
        "    [2, 3],\n",
        "    [2, 5],\n",
        "    [3, 4],\n",
        "    [5, 9],\n",
        "])\n",
        "\n",
        "X"
      ]
    },
    {
      "cell_type": "markdown",
      "metadata": {
        "id": "1T4NGECihs4b"
      },
      "source": [
        "* 切片を重みベクトルに含めて扱うため, デザイン行列の 0 列目に 1 という値を付け加えます.\n",
        "\n",
        "* To include the intercept in the weight vector, we add a value of 1 to the zeroth column of the design matrix."
      ]
    },
    {
      "cell_type": "code",
      "execution_count": null,
      "metadata": {
        "colab": {
          "base_uri": "https://localhost:8080/",
          "height": 88
        },
        "id": "aSSfzZoahs4d",
        "outputId": "0d1dbc3e-12cd-4bf5-bfca-fc8bb256a79e"
      },
      "outputs": [
        {
          "data": {
            "text/plain": [
              "array([[1., 2., 3.],\n",
              "       [1., 2., 5.],\n",
              "       [1., 3., 4.],\n",
              "       [1., 5., 9.]])"
            ]
          },
          "execution_count": 62,
          "metadata": {
            "tags": []
          },
          "output_type": "execute_result"
        }
      ],
      "source": [
        "# データ数（X.shape[0]) と同じ数だけ 1 が並んだ配列/An array of 1s equal to the number of data (X.shape[0])\n",
        "ones = np.ones((X.shape[0], 1))\n",
        "\n",
        "# concatenate を使い、1 次元目に 1 を付け加える/Use concatenate to add 1 to the first dimension\n",
        "X = np.concatenate((ones, X), axis=1)\n",
        "\n",
        "# 先頭に 1 が付け加わったデザイン行列/Design matrix with leading 1 appended\n",
        "X"
      ]
    },
    {
      "cell_type": "markdown",
      "metadata": {
        "id": "DQ9Ybyrphs4g"
      },
      "source": [
        "* また, 目標値が以下で与えられたとします.\n",
        "\n",
        "* Also, suppose that the target value is given by"
      ]
    },
    {
      "cell_type": "code",
      "execution_count": null,
      "metadata": {
        "colab": {
          "base_uri": "https://localhost:8080/",
          "height": 35
        },
        "id": "eU0UlmKrvxVK",
        "outputId": "7fb37396-09f2-427b-f52f-769b587f1b4c"
      },
      "outputs": [
        {
          "data": {
            "text/plain": [
              "array([1, 5, 6, 8])"
            ]
          },
          "execution_count": 63,
          "metadata": {
            "tags": []
          },
          "output_type": "execute_result"
        }
      ],
      "source": [
        "# t の定義/Definition of t\n",
        "t = np.array([1, 5, 6, 8])\n",
        "\n",
        "t"
      ]
    },
    {
      "cell_type": "markdown",
      "metadata": {
        "id": "UX4hYhjtwBlK"
      },
      "source": [
        "* 重回帰分析は, 正規方程式を解くことで最適な 1 次方程式の重みを決定することができます.\n",
        "\n",
        "* 正規方程式の解は以下のようなものです.\n",
        "\n",
        "$$\n",
        "{\\bf w} = ({\\bf X}^{{\\rm T}}{\\bf X})^{\\rm -1}{\\bf X}^{\\rm T}{\\bf t}\n",
        "$$\n",
        "\n",
        "* これを4 つのステップに分けて計算していきます.\n",
        "\n",
        "* まずは, ${\\bf X}^{\\rm T}{\\bf X}$ の計算です.\n",
        "\n",
        "* ndarrayに対して `.T` で転置した配列を得られます.\n",
        "\n",
        "* Multiple regression analysis allows you to determine the optimal linear weights by solving a normal equation.\n",
        "\n",
        "* The solution of the normal equation is as follows.\n",
        "\n",
        "$$\n",
        "{\\bf w} = ({\\bf X}^{{\\rm T}}{\\bf X})^{\\rm -1}{\\bf X}^{\\rm T}{\\bf t}\n",
        "$$\n",
        "\n",
        "* We will calculate this in four steps.\n",
        "\n",
        "* First, we calculate ${\\bf X}^{\\rm T}{\\bf X}$.\n",
        "\n",
        "* We can get an array transposed by `.T` for ndarray."
      ]
    },
    {
      "cell_type": "code",
      "execution_count": null,
      "metadata": {
        "colab": {
          "base_uri": "https://localhost:8080/",
          "height": 70
        },
        "id": "r_s8lxK9wvFW",
        "outputId": "5ea9564a-8e50-4db9-f334-1d38eb14f40d"
      },
      "outputs": [
        {
          "data": {
            "text/plain": [
              "array([[  4.,  12.,  21.],\n",
              "       [ 12.,  42.,  73.],\n",
              "       [ 21.,  73., 131.]])"
            ]
          },
          "execution_count": 64,
          "metadata": {
            "tags": []
          },
          "output_type": "execute_result"
        }
      ],
      "source": [
        "# Step 1\n",
        "xx = np.dot(X.T, X)\n",
        "\n",
        "xx"
      ]
    },
    {
      "cell_type": "markdown",
      "metadata": {
        "id": "1x4UD4Tghs4v"
      },
      "source": [
        "* 次に. この逆行列を計算します.\n",
        "\n",
        "* Next, this inverse matrix is computed."
      ]
    },
    {
      "cell_type": "code",
      "execution_count": null,
      "metadata": {
        "colab": {
          "base_uri": "https://localhost:8080/",
          "height": 70
        },
        "id": "V4ZpY_CLxuRX",
        "outputId": "1d4c9b86-c4e8-487c-afe7-6d5b09eb2508"
      },
      "outputs": [
        {
          "data": {
            "text/plain": [
              "array([[ 1.76530612, -0.39795918, -0.06122449],\n",
              "       [-0.39795918,  0.84693878, -0.40816327],\n",
              "       [-0.06122449, -0.40816327,  0.24489796]])"
            ]
          },
          "execution_count": 65,
          "metadata": {
            "tags": []
          },
          "output_type": "execute_result"
        }
      ],
      "source": [
        "# Step 2\n",
        "xx_inv = np.linalg.inv(xx)\n",
        "\n",
        "xx_inv"
      ]
    },
    {
      "cell_type": "markdown",
      "metadata": {
        "id": "s40OeZJ0yJw5"
      },
      "source": [
        "* 逆行列の計算は `np.linalg.inv()` で行うことができます.\n",
        "\n",
        "* 次に, ${\\bf X}^{\\rm T}{\\bf t}$ の計算をします.\n",
        "\n",
        "* The inverse can be computed with `np.linalg.inv()`.\n",
        "\n",
        "* Next, we compute ${\\bf X}^{\\rm T}{\\bf t}$."
      ]
    },
    {
      "cell_type": "code",
      "execution_count": null,
      "metadata": {
        "colab": {
          "base_uri": "https://localhost:8080/",
          "height": 35
        },
        "id": "YR6kbSD1x3XU",
        "outputId": "3ed492c2-175e-4e0b-eeea-8c4d18758804",
        "scrolled": true
      },
      "outputs": [
        {
          "data": {
            "text/plain": [
              "array([ 20.,  70., 124.])"
            ]
          },
          "execution_count": 66,
          "metadata": {
            "tags": []
          },
          "output_type": "execute_result"
        }
      ],
      "source": [
        "# Step 3\n",
        "xt = np.dot(X.T, t)\n",
        "\n",
        "xt"
      ]
    },
    {
      "cell_type": "markdown",
      "metadata": {
        "id": "94huqVEDhs40"
      },
      "source": [
        "* 最後に, 求めた `xx_inv` と `xt` を掛け合わせます.\n",
        "\n",
        "* Finally, multiply the obtained `xx_inv` by `xt`."
      ]
    },
    {
      "cell_type": "code",
      "execution_count": null,
      "metadata": {
        "colab": {
          "base_uri": "https://localhost:8080/",
          "height": 35
        },
        "id": "oBBA-NRbybHK",
        "outputId": "e7e35e3c-2566-473e-88dd-09a0ef7790e1"
      },
      "outputs": [
        {
          "data": {
            "text/plain": [
              "array([-0.14285714,  0.71428571,  0.57142857])"
            ]
          },
          "execution_count": 67,
          "metadata": {
            "tags": []
          },
          "output_type": "execute_result"
        }
      ],
      "source": [
        "# Step 4\n",
        "w = np.dot(xx_inv, xt)\n",
        "\n",
        "w"
      ]
    },
    {
      "cell_type": "markdown",
      "metadata": {
        "id": "XsIpR4_ehs43"
      },
      "source": [
        "* 以上の計算は, 以下のように 1 行で行うこともできます.\n",
        "\n",
        "* The above calculations can also be done in a single line as follows:"
      ]
    },
    {
      "cell_type": "code",
      "execution_count": null,
      "metadata": {
        "colab": {
          "base_uri": "https://localhost:8080/",
          "height": 35
        },
        "id": "SXPsTsIxhs43",
        "outputId": "c862c977-b762-480d-bcd1-cece5355ff10"
      },
      "outputs": [
        {
          "data": {
            "text/plain": [
              "array([-0.14285714,  0.71428571,  0.57142857])"
            ]
          },
          "execution_count": 68,
          "metadata": {
            "tags": []
          },
          "output_type": "execute_result"
        }
      ],
      "source": [
        "w_ = np.linalg.inv(X.T.dot(X)).dot(X.T).dot(t)\n",
        "\n",
        "w_"
      ]
    },
    {
      "cell_type": "markdown",
      "metadata": {
        "id": "k9xtcA31mXD-"
      },
      "source": [
        "* 実際には逆行列を陽に求めることは稀です.\n",
        "\n",
        "* 連立一次方程式を解く, すなわち逆行列を計算してベクトルに掛けるのに等しい計算をひとまとめに行う関数 `numpy.linalg.solve` を呼ぶ方が速度面でも精度面でも有利です.\n",
        "\n",
        "* In practice, it is rare to perform the inverse explicitly.\n",
        "\n",
        "* It is more advantageous in terms of speed and accuracy to call the function `numpy.linalg.solve` which does the equivalent of solving a linear system, i.e., computing the inverse and multiplying it by a vector, all in one call."
      ]
    },
    {
      "cell_type": "code",
      "execution_count": null,
      "metadata": {
        "colab": {
          "base_uri": "https://localhost:8080/",
          "height": 35
        },
        "id": "rL5mO_Srm7Xe",
        "outputId": "8cf416e8-031b-4269-e8c2-7406ed3c5630"
      },
      "outputs": [
        {
          "data": {
            "text/plain": [
              "array([-0.14285714,  0.71428571,  0.57142857])"
            ]
          },
          "execution_count": 69,
          "metadata": {
            "tags": []
          },
          "output_type": "execute_result"
        }
      ],
      "source": [
        "w_ = np.linalg.solve(X.T.dot(X), X.T.dot(t))\n",
        "\n",
        "w_"
      ]
    }
  ],
  "metadata": {
    "colab": {
      "name": "3_NumPy.ipynb",
      "provenance": [],
      "collapsed_sections": []
    },
    "kernelspec": {
      "display_name": "Python 3",
      "language": "python",
      "name": "python3"
    },
    "language_info": {
      "codemirror_mode": {
        "name": "ipython",
        "version": 3
      },
      "file_extension": ".py",
      "mimetype": "text/x-python",
      "name": "python",
      "nbconvert_exporter": "python",
      "pygments_lexer": "ipython3",
      "version": "3.7.2"
    }
  },
  "nbformat": 4,
  "nbformat_minor": 0
}